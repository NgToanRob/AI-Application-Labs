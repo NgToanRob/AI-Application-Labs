{
 "cells": [
  {
   "cell_type": "markdown",
   "metadata": {
    "datalore": {
     "hide_input_from_viewers": false,
     "hide_output_from_viewers": false,
     "node_id": "CFxNZVf0hbNxeCop4nIN2T",
     "type": "MD"
    },
    "id": "GOlQhEuVLbQL"
   },
   "source": [
    "# Forecasting housing prices using a neural network regression model\n",
    "\n",
    "**Purpose of the work:**We need to predict the final price of each house from the available data on house prices, taking into account the characteristics of the houses using a neural network.\n",
    "\n",
    "\n"
   ]
  },
  {
   "cell_type": "markdown",
   "metadata": {
    "id": "Fkf-9vD8Y9UG"
   },
   "source": [
    "## 1. Information about the dataset\n",
    "The description of the dataset contains 80 classes (a set of variables) of the housing type classification, and can be found in the file `data_description.txt`.\n",
    "\n",
    "The work requires the addition of the section \"Modeling\" in the subsection \"Model building and training\" create and initialize a sequential neural network model using neural network training frameworks like: Torch or Tensorflow. Compile the neural network by selecting the loss function and optimizer respectively. Evaluate the accuracy of the results. Output the predicted sales data. \n"
   ]
  },
  {
   "cell_type": "markdown",
   "metadata": {
    "id": "BAclFar-Y_fv"
   },
   "source": [
    "\n",
    "## 2. Importing libraries\n",
    "Import the required libraries:"
   ]
  },
  {
   "cell_type": "code",
   "execution_count": 2,
   "metadata": {
    "colab": {
     "base_uri": "https://localhost:8080/",
     "height": 0
    },
    "id": "i1r37p0NLgRT",
    "outputId": "4e6fb1f4-8ab7-483c-d8a4-c89791667859"
   },
   "outputs": [
    {
     "name": "stdout",
     "output_type": "stream",
     "text": [
      "Mounted at /content/drive\n"
     ]
    }
   ],
   "source": [
    "from google.colab import drive\n",
    "drive.mount('/content/drive')"
   ]
  },
  {
   "cell_type": "code",
   "execution_count": 3,
   "metadata": {
    "datalore": {
     "hide_input_from_viewers": false,
     "hide_output_from_viewers": false,
     "node_id": "BuwU26gdC1ZUAFRZo5cgMp",
     "type": "CODE"
    },
    "id": "vsJiPgz2LbQO"
   },
   "outputs": [],
   "source": [
    "import numpy as np\n",
    "import pandas as pd\n",
    "import matplotlib.pyplot as plt\n",
    "from sklearn.model_selection import train_test_split"
   ]
  },
  {
   "cell_type": "markdown",
   "metadata": {
    "datalore": {
     "hide_input_from_viewers": false,
     "hide_output_from_viewers": false,
     "node_id": "yDvlZr4HAkGEmZYhi0oxLW",
     "type": "MD"
    },
    "id": "8Fwf3NFMLbQP"
   },
   "source": [
    "## 3. Read the dataset\n",
    "\n",
    "\n",
    "Load the dataset and assign the following variables:\n",
    "\n",
    "* `train_data`: data used to train the model\n",
    "* `test_data`: data used to test the model"
   ]
  },
  {
   "cell_type": "code",
   "execution_count": 4,
   "metadata": {
    "datalore": {
     "hide_input_from_viewers": false,
     "hide_output_from_viewers": false,
     "node_id": "cv3SeTOL5K6waszFLFVrHV",
     "type": "CODE"
    },
    "id": "WO1e0MdGLbQQ"
   },
   "outputs": [],
   "source": [
    "train_data = pd.read_csv('/content/drive/MyDrive/Fall semester 2022/AI/lab 2/train.csv', index_col=0)\n",
    "test_data = pd.read_csv('/content/drive/MyDrive/Fall semester 2022/AI/lab 2//test.csv', index_col=0)"
   ]
  },
  {
   "cell_type": "markdown",
   "metadata": {
    "datalore": {
     "hide_input_from_viewers": false,
     "hide_output_from_viewers": false,
     "node_id": "OkRocMZR6KzqkfMDYArdLj",
     "type": "MD"
    },
    "id": "9qVeFxWDLbQQ"
   },
   "source": [
    "## 4. Data preparation\n",
    "\n"
   ]
  },
  {
   "cell_type": "markdown",
   "metadata": {
    "id": "YlN4J_UAZNLH"
   },
   "source": [
    "### 4.1 Show the training and validation data:"
   ]
  },
  {
   "cell_type": "code",
   "execution_count": 5,
   "metadata": {
    "colab": {
     "base_uri": "https://localhost:8080/",
     "height": 0
    },
    "id": "oPwM1yZ0PAo6",
    "outputId": "e22ea617-e3df-4d74-b307-fa7e4ca9c905"
   },
   "outputs": [
    {
     "name": "stdout",
     "output_type": "stream",
     "text": [
      "<class 'pandas.core.frame.DataFrame'>\n",
      "Int64Index: 1460 entries, 1 to 1460\n",
      "Data columns (total 80 columns):\n",
      " #   Column         Non-Null Count  Dtype  \n",
      "---  ------         --------------  -----  \n",
      " 0   MSSubClass     1460 non-null   int64  \n",
      " 1   MSZoning       1460 non-null   object \n",
      " 2   LotFrontage    1201 non-null   float64\n",
      " 3   LotArea        1460 non-null   int64  \n",
      " 4   Street         1460 non-null   object \n",
      " 5   Alley          91 non-null     object \n",
      " 6   LotShape       1460 non-null   object \n",
      " 7   LandContour    1460 non-null   object \n",
      " 8   Utilities      1460 non-null   object \n",
      " 9   LotConfig      1460 non-null   object \n",
      " 10  LandSlope      1460 non-null   object \n",
      " 11  Neighborhood   1460 non-null   object \n",
      " 12  Condition1     1460 non-null   object \n",
      " 13  Condition2     1460 non-null   object \n",
      " 14  BldgType       1460 non-null   object \n",
      " 15  HouseStyle     1460 non-null   object \n",
      " 16  OverallQual    1460 non-null   int64  \n",
      " 17  OverallCond    1460 non-null   int64  \n",
      " 18  YearBuilt      1460 non-null   int64  \n",
      " 19  YearRemodAdd   1460 non-null   int64  \n",
      " 20  RoofStyle      1460 non-null   object \n",
      " 21  RoofMatl       1460 non-null   object \n",
      " 22  Exterior1st    1460 non-null   object \n",
      " 23  Exterior2nd    1460 non-null   object \n",
      " 24  MasVnrType     1452 non-null   object \n",
      " 25  MasVnrArea     1452 non-null   float64\n",
      " 26  ExterQual      1460 non-null   object \n",
      " 27  ExterCond      1460 non-null   object \n",
      " 28  Foundation     1460 non-null   object \n",
      " 29  BsmtQual       1423 non-null   object \n",
      " 30  BsmtCond       1423 non-null   object \n",
      " 31  BsmtExposure   1422 non-null   object \n",
      " 32  BsmtFinType1   1423 non-null   object \n",
      " 33  BsmtFinSF1     1460 non-null   int64  \n",
      " 34  BsmtFinType2   1422 non-null   object \n",
      " 35  BsmtFinSF2     1460 non-null   int64  \n",
      " 36  BsmtUnfSF      1460 non-null   int64  \n",
      " 37  TotalBsmtSF    1460 non-null   int64  \n",
      " 38  Heating        1460 non-null   object \n",
      " 39  HeatingQC      1460 non-null   object \n",
      " 40  CentralAir     1460 non-null   object \n",
      " 41  Electrical     1459 non-null   object \n",
      " 42  1stFlrSF       1460 non-null   int64  \n",
      " 43  2ndFlrSF       1460 non-null   int64  \n",
      " 44  LowQualFinSF   1460 non-null   int64  \n",
      " 45  GrLivArea      1460 non-null   int64  \n",
      " 46  BsmtFullBath   1460 non-null   int64  \n",
      " 47  BsmtHalfBath   1460 non-null   int64  \n",
      " 48  FullBath       1460 non-null   int64  \n",
      " 49  HalfBath       1460 non-null   int64  \n",
      " 50  BedroomAbvGr   1460 non-null   int64  \n",
      " 51  KitchenAbvGr   1460 non-null   int64  \n",
      " 52  KitchenQual    1460 non-null   object \n",
      " 53  TotRmsAbvGrd   1460 non-null   int64  \n",
      " 54  Functional     1460 non-null   object \n",
      " 55  Fireplaces     1460 non-null   int64  \n",
      " 56  FireplaceQu    770 non-null    object \n",
      " 57  GarageType     1379 non-null   object \n",
      " 58  GarageYrBlt    1379 non-null   float64\n",
      " 59  GarageFinish   1379 non-null   object \n",
      " 60  GarageCars     1460 non-null   int64  \n",
      " 61  GarageArea     1460 non-null   int64  \n",
      " 62  GarageQual     1379 non-null   object \n",
      " 63  GarageCond     1379 non-null   object \n",
      " 64  PavedDrive     1460 non-null   object \n",
      " 65  WoodDeckSF     1460 non-null   int64  \n",
      " 66  OpenPorchSF    1460 non-null   int64  \n",
      " 67  EnclosedPorch  1460 non-null   int64  \n",
      " 68  3SsnPorch      1460 non-null   int64  \n",
      " 69  ScreenPorch    1460 non-null   int64  \n",
      " 70  PoolArea       1460 non-null   int64  \n",
      " 71  PoolQC         7 non-null      object \n",
      " 72  Fence          281 non-null    object \n",
      " 73  MiscFeature    54 non-null     object \n",
      " 74  MiscVal        1460 non-null   int64  \n",
      " 75  MoSold         1460 non-null   int64  \n",
      " 76  YrSold         1460 non-null   int64  \n",
      " 77  SaleType       1460 non-null   object \n",
      " 78  SaleCondition  1460 non-null   object \n",
      " 79  SalePrice      1460 non-null   int64  \n",
      "dtypes: float64(3), int64(34), object(43)\n",
      "memory usage: 923.9+ KB\n"
     ]
    }
   ],
   "source": [
    "train_data.info()"
   ]
  },
  {
   "cell_type": "markdown",
   "metadata": {
    "id": "9yZT4xN1PKKe"
   },
   "source": [
    "Он имеет 1460 записей, от 1 до 1460 и 80 столбцов. Мы получим столбец «SalePrice», создающий модель вывода."
   ]
  },
  {
   "cell_type": "code",
   "execution_count": 6,
   "metadata": {
    "colab": {
     "base_uri": "https://localhost:8080/",
     "height": 331
    },
    "datalore": {
     "hide_input_from_viewers": false,
     "hide_output_from_viewers": false,
     "node_id": "FeQpLhWFiCUvkwKTZJGt77",
     "type": "CODE"
    },
    "id": "dBfsTR7xLbQQ",
    "outputId": "e4e0e95b-9628-4338-c57a-2a14c0484eae"
   },
   "outputs": [
    {
     "data": {
      "text/html": [
       "\n",
       "  <div id=\"df-ee5c5d80-0c62-4a05-9952-73669d8101e3\">\n",
       "    <div class=\"colab-df-container\">\n",
       "      <div>\n",
       "<style scoped>\n",
       "    .dataframe tbody tr th:only-of-type {\n",
       "        vertical-align: middle;\n",
       "    }\n",
       "\n",
       "    .dataframe tbody tr th {\n",
       "        vertical-align: top;\n",
       "    }\n",
       "\n",
       "    .dataframe thead th {\n",
       "        text-align: right;\n",
       "    }\n",
       "</style>\n",
       "<table border=\"1\" class=\"dataframe\">\n",
       "  <thead>\n",
       "    <tr style=\"text-align: right;\">\n",
       "      <th></th>\n",
       "      <th>MSSubClass</th>\n",
       "      <th>MSZoning</th>\n",
       "      <th>LotFrontage</th>\n",
       "      <th>LotArea</th>\n",
       "      <th>Street</th>\n",
       "      <th>Alley</th>\n",
       "      <th>LotShape</th>\n",
       "      <th>LandContour</th>\n",
       "      <th>Utilities</th>\n",
       "      <th>LotConfig</th>\n",
       "      <th>...</th>\n",
       "      <th>PoolArea</th>\n",
       "      <th>PoolQC</th>\n",
       "      <th>Fence</th>\n",
       "      <th>MiscFeature</th>\n",
       "      <th>MiscVal</th>\n",
       "      <th>MoSold</th>\n",
       "      <th>YrSold</th>\n",
       "      <th>SaleType</th>\n",
       "      <th>SaleCondition</th>\n",
       "      <th>SalePrice</th>\n",
       "    </tr>\n",
       "    <tr>\n",
       "      <th>Id</th>\n",
       "      <th></th>\n",
       "      <th></th>\n",
       "      <th></th>\n",
       "      <th></th>\n",
       "      <th></th>\n",
       "      <th></th>\n",
       "      <th></th>\n",
       "      <th></th>\n",
       "      <th></th>\n",
       "      <th></th>\n",
       "      <th></th>\n",
       "      <th></th>\n",
       "      <th></th>\n",
       "      <th></th>\n",
       "      <th></th>\n",
       "      <th></th>\n",
       "      <th></th>\n",
       "      <th></th>\n",
       "      <th></th>\n",
       "      <th></th>\n",
       "      <th></th>\n",
       "    </tr>\n",
       "  </thead>\n",
       "  <tbody>\n",
       "    <tr>\n",
       "      <th>1</th>\n",
       "      <td>60</td>\n",
       "      <td>RL</td>\n",
       "      <td>65.0</td>\n",
       "      <td>8450</td>\n",
       "      <td>Pave</td>\n",
       "      <td>NaN</td>\n",
       "      <td>Reg</td>\n",
       "      <td>Lvl</td>\n",
       "      <td>AllPub</td>\n",
       "      <td>Inside</td>\n",
       "      <td>...</td>\n",
       "      <td>0</td>\n",
       "      <td>NaN</td>\n",
       "      <td>NaN</td>\n",
       "      <td>NaN</td>\n",
       "      <td>0</td>\n",
       "      <td>2</td>\n",
       "      <td>2008</td>\n",
       "      <td>WD</td>\n",
       "      <td>Normal</td>\n",
       "      <td>208500</td>\n",
       "    </tr>\n",
       "    <tr>\n",
       "      <th>2</th>\n",
       "      <td>20</td>\n",
       "      <td>RL</td>\n",
       "      <td>80.0</td>\n",
       "      <td>9600</td>\n",
       "      <td>Pave</td>\n",
       "      <td>NaN</td>\n",
       "      <td>Reg</td>\n",
       "      <td>Lvl</td>\n",
       "      <td>AllPub</td>\n",
       "      <td>FR2</td>\n",
       "      <td>...</td>\n",
       "      <td>0</td>\n",
       "      <td>NaN</td>\n",
       "      <td>NaN</td>\n",
       "      <td>NaN</td>\n",
       "      <td>0</td>\n",
       "      <td>5</td>\n",
       "      <td>2007</td>\n",
       "      <td>WD</td>\n",
       "      <td>Normal</td>\n",
       "      <td>181500</td>\n",
       "    </tr>\n",
       "    <tr>\n",
       "      <th>3</th>\n",
       "      <td>60</td>\n",
       "      <td>RL</td>\n",
       "      <td>68.0</td>\n",
       "      <td>11250</td>\n",
       "      <td>Pave</td>\n",
       "      <td>NaN</td>\n",
       "      <td>IR1</td>\n",
       "      <td>Lvl</td>\n",
       "      <td>AllPub</td>\n",
       "      <td>Inside</td>\n",
       "      <td>...</td>\n",
       "      <td>0</td>\n",
       "      <td>NaN</td>\n",
       "      <td>NaN</td>\n",
       "      <td>NaN</td>\n",
       "      <td>0</td>\n",
       "      <td>9</td>\n",
       "      <td>2008</td>\n",
       "      <td>WD</td>\n",
       "      <td>Normal</td>\n",
       "      <td>223500</td>\n",
       "    </tr>\n",
       "    <tr>\n",
       "      <th>4</th>\n",
       "      <td>70</td>\n",
       "      <td>RL</td>\n",
       "      <td>60.0</td>\n",
       "      <td>9550</td>\n",
       "      <td>Pave</td>\n",
       "      <td>NaN</td>\n",
       "      <td>IR1</td>\n",
       "      <td>Lvl</td>\n",
       "      <td>AllPub</td>\n",
       "      <td>Corner</td>\n",
       "      <td>...</td>\n",
       "      <td>0</td>\n",
       "      <td>NaN</td>\n",
       "      <td>NaN</td>\n",
       "      <td>NaN</td>\n",
       "      <td>0</td>\n",
       "      <td>2</td>\n",
       "      <td>2006</td>\n",
       "      <td>WD</td>\n",
       "      <td>Abnorml</td>\n",
       "      <td>140000</td>\n",
       "    </tr>\n",
       "    <tr>\n",
       "      <th>5</th>\n",
       "      <td>60</td>\n",
       "      <td>RL</td>\n",
       "      <td>84.0</td>\n",
       "      <td>14260</td>\n",
       "      <td>Pave</td>\n",
       "      <td>NaN</td>\n",
       "      <td>IR1</td>\n",
       "      <td>Lvl</td>\n",
       "      <td>AllPub</td>\n",
       "      <td>FR2</td>\n",
       "      <td>...</td>\n",
       "      <td>0</td>\n",
       "      <td>NaN</td>\n",
       "      <td>NaN</td>\n",
       "      <td>NaN</td>\n",
       "      <td>0</td>\n",
       "      <td>12</td>\n",
       "      <td>2008</td>\n",
       "      <td>WD</td>\n",
       "      <td>Normal</td>\n",
       "      <td>250000</td>\n",
       "    </tr>\n",
       "  </tbody>\n",
       "</table>\n",
       "<p>5 rows × 80 columns</p>\n",
       "</div>\n",
       "      <button class=\"colab-df-convert\" onclick=\"convertToInteractive('df-ee5c5d80-0c62-4a05-9952-73669d8101e3')\"\n",
       "              title=\"Convert this dataframe to an interactive table.\"\n",
       "              style=\"display:none;\">\n",
       "        \n",
       "  <svg xmlns=\"http://www.w3.org/2000/svg\" height=\"24px\"viewBox=\"0 0 24 24\"\n",
       "       width=\"24px\">\n",
       "    <path d=\"M0 0h24v24H0V0z\" fill=\"none\"/>\n",
       "    <path d=\"M18.56 5.44l.94 2.06.94-2.06 2.06-.94-2.06-.94-.94-2.06-.94 2.06-2.06.94zm-11 1L8.5 8.5l.94-2.06 2.06-.94-2.06-.94L8.5 2.5l-.94 2.06-2.06.94zm10 10l.94 2.06.94-2.06 2.06-.94-2.06-.94-.94-2.06-.94 2.06-2.06.94z\"/><path d=\"M17.41 7.96l-1.37-1.37c-.4-.4-.92-.59-1.43-.59-.52 0-1.04.2-1.43.59L10.3 9.45l-7.72 7.72c-.78.78-.78 2.05 0 2.83L4 21.41c.39.39.9.59 1.41.59.51 0 1.02-.2 1.41-.59l7.78-7.78 2.81-2.81c.8-.78.8-2.07 0-2.86zM5.41 20L4 18.59l7.72-7.72 1.47 1.35L5.41 20z\"/>\n",
       "  </svg>\n",
       "      </button>\n",
       "      \n",
       "  <style>\n",
       "    .colab-df-container {\n",
       "      display:flex;\n",
       "      flex-wrap:wrap;\n",
       "      gap: 12px;\n",
       "    }\n",
       "\n",
       "    .colab-df-convert {\n",
       "      background-color: #E8F0FE;\n",
       "      border: none;\n",
       "      border-radius: 50%;\n",
       "      cursor: pointer;\n",
       "      display: none;\n",
       "      fill: #1967D2;\n",
       "      height: 32px;\n",
       "      padding: 0 0 0 0;\n",
       "      width: 32px;\n",
       "    }\n",
       "\n",
       "    .colab-df-convert:hover {\n",
       "      background-color: #E2EBFA;\n",
       "      box-shadow: 0px 1px 2px rgba(60, 64, 67, 0.3), 0px 1px 3px 1px rgba(60, 64, 67, 0.15);\n",
       "      fill: #174EA6;\n",
       "    }\n",
       "\n",
       "    [theme=dark] .colab-df-convert {\n",
       "      background-color: #3B4455;\n",
       "      fill: #D2E3FC;\n",
       "    }\n",
       "\n",
       "    [theme=dark] .colab-df-convert:hover {\n",
       "      background-color: #434B5C;\n",
       "      box-shadow: 0px 1px 3px 1px rgba(0, 0, 0, 0.15);\n",
       "      filter: drop-shadow(0px 1px 2px rgba(0, 0, 0, 0.3));\n",
       "      fill: #FFFFFF;\n",
       "    }\n",
       "  </style>\n",
       "\n",
       "      <script>\n",
       "        const buttonEl =\n",
       "          document.querySelector('#df-ee5c5d80-0c62-4a05-9952-73669d8101e3 button.colab-df-convert');\n",
       "        buttonEl.style.display =\n",
       "          google.colab.kernel.accessAllowed ? 'block' : 'none';\n",
       "\n",
       "        async function convertToInteractive(key) {\n",
       "          const element = document.querySelector('#df-ee5c5d80-0c62-4a05-9952-73669d8101e3');\n",
       "          const dataTable =\n",
       "            await google.colab.kernel.invokeFunction('convertToInteractive',\n",
       "                                                     [key], {});\n",
       "          if (!dataTable) return;\n",
       "\n",
       "          const docLinkHtml = 'Like what you see? Visit the ' +\n",
       "            '<a target=\"_blank\" href=https://colab.research.google.com/notebooks/data_table.ipynb>data table notebook</a>'\n",
       "            + ' to learn more about interactive tables.';\n",
       "          element.innerHTML = '';\n",
       "          dataTable['output_type'] = 'display_data';\n",
       "          await google.colab.output.renderOutput(dataTable, element);\n",
       "          const docLink = document.createElement('div');\n",
       "          docLink.innerHTML = docLinkHtml;\n",
       "          element.appendChild(docLink);\n",
       "        }\n",
       "      </script>\n",
       "    </div>\n",
       "  </div>\n",
       "  "
      ],
      "text/plain": [
       "    MSSubClass MSZoning  LotFrontage  LotArea Street Alley LotShape  \\\n",
       "Id                                                                    \n",
       "1           60       RL         65.0     8450   Pave   NaN      Reg   \n",
       "2           20       RL         80.0     9600   Pave   NaN      Reg   \n",
       "3           60       RL         68.0    11250   Pave   NaN      IR1   \n",
       "4           70       RL         60.0     9550   Pave   NaN      IR1   \n",
       "5           60       RL         84.0    14260   Pave   NaN      IR1   \n",
       "\n",
       "   LandContour Utilities LotConfig  ... PoolArea PoolQC Fence MiscFeature  \\\n",
       "Id                                  ...                                     \n",
       "1          Lvl    AllPub    Inside  ...        0    NaN   NaN         NaN   \n",
       "2          Lvl    AllPub       FR2  ...        0    NaN   NaN         NaN   \n",
       "3          Lvl    AllPub    Inside  ...        0    NaN   NaN         NaN   \n",
       "4          Lvl    AllPub    Corner  ...        0    NaN   NaN         NaN   \n",
       "5          Lvl    AllPub       FR2  ...        0    NaN   NaN         NaN   \n",
       "\n",
       "   MiscVal MoSold  YrSold  SaleType  SaleCondition  SalePrice  \n",
       "Id                                                             \n",
       "1        0      2    2008        WD         Normal     208500  \n",
       "2        0      5    2007        WD         Normal     181500  \n",
       "3        0      9    2008        WD         Normal     223500  \n",
       "4        0      2    2006        WD        Abnorml     140000  \n",
       "5        0     12    2008        WD         Normal     250000  \n",
       "\n",
       "[5 rows x 80 columns]"
      ]
     },
     "execution_count": 6,
     "metadata": {},
     "output_type": "execute_result"
    }
   ],
   "source": [
    "train_data.head()"
   ]
  },
  {
   "cell_type": "code",
   "execution_count": 7,
   "metadata": {
    "colab": {
     "base_uri": "https://localhost:8080/",
     "height": 0
    },
    "id": "tLTW_MofyCzd",
    "outputId": "fe798a85-df86-4c2c-e14a-3a6a8f4cebab"
   },
   "outputs": [
    {
     "data": {
      "text/plain": [
       "count      1460.000000\n",
       "mean     180921.195890\n",
       "std       79442.502883\n",
       "min       34900.000000\n",
       "25%      129975.000000\n",
       "50%      163000.000000\n",
       "75%      214000.000000\n",
       "max      755000.000000\n",
       "Name: SalePrice, dtype: float64"
      ]
     },
     "execution_count": 7,
     "metadata": {},
     "output_type": "execute_result"
    }
   ],
   "source": [
    "## Output infomation\n",
    "train_data['SalePrice'].describe()"
   ]
  },
  {
   "cell_type": "code",
   "execution_count": 8,
   "metadata": {
    "colab": {
     "base_uri": "https://localhost:8080/",
     "height": 0
    },
    "id": "qblZG9WnPzZ7",
    "outputId": "c7d6f012-ffd6-4ba1-b6c7-7c46e6a97aba"
   },
   "outputs": [
    {
     "name": "stdout",
     "output_type": "stream",
     "text": [
      "<class 'pandas.core.frame.DataFrame'>\n",
      "Int64Index: 1459 entries, 1461 to 2919\n",
      "Data columns (total 79 columns):\n",
      " #   Column         Non-Null Count  Dtype  \n",
      "---  ------         --------------  -----  \n",
      " 0   MSSubClass     1459 non-null   int64  \n",
      " 1   MSZoning       1455 non-null   object \n",
      " 2   LotFrontage    1232 non-null   float64\n",
      " 3   LotArea        1459 non-null   int64  \n",
      " 4   Street         1459 non-null   object \n",
      " 5   Alley          107 non-null    object \n",
      " 6   LotShape       1459 non-null   object \n",
      " 7   LandContour    1459 non-null   object \n",
      " 8   Utilities      1457 non-null   object \n",
      " 9   LotConfig      1459 non-null   object \n",
      " 10  LandSlope      1459 non-null   object \n",
      " 11  Neighborhood   1459 non-null   object \n",
      " 12  Condition1     1459 non-null   object \n",
      " 13  Condition2     1459 non-null   object \n",
      " 14  BldgType       1459 non-null   object \n",
      " 15  HouseStyle     1459 non-null   object \n",
      " 16  OverallQual    1459 non-null   int64  \n",
      " 17  OverallCond    1459 non-null   int64  \n",
      " 18  YearBuilt      1459 non-null   int64  \n",
      " 19  YearRemodAdd   1459 non-null   int64  \n",
      " 20  RoofStyle      1459 non-null   object \n",
      " 21  RoofMatl       1459 non-null   object \n",
      " 22  Exterior1st    1458 non-null   object \n",
      " 23  Exterior2nd    1458 non-null   object \n",
      " 24  MasVnrType     1443 non-null   object \n",
      " 25  MasVnrArea     1444 non-null   float64\n",
      " 26  ExterQual      1459 non-null   object \n",
      " 27  ExterCond      1459 non-null   object \n",
      " 28  Foundation     1459 non-null   object \n",
      " 29  BsmtQual       1415 non-null   object \n",
      " 30  BsmtCond       1414 non-null   object \n",
      " 31  BsmtExposure   1415 non-null   object \n",
      " 32  BsmtFinType1   1417 non-null   object \n",
      " 33  BsmtFinSF1     1458 non-null   float64\n",
      " 34  BsmtFinType2   1417 non-null   object \n",
      " 35  BsmtFinSF2     1458 non-null   float64\n",
      " 36  BsmtUnfSF      1458 non-null   float64\n",
      " 37  TotalBsmtSF    1458 non-null   float64\n",
      " 38  Heating        1459 non-null   object \n",
      " 39  HeatingQC      1459 non-null   object \n",
      " 40  CentralAir     1459 non-null   object \n",
      " 41  Electrical     1459 non-null   object \n",
      " 42  1stFlrSF       1459 non-null   int64  \n",
      " 43  2ndFlrSF       1459 non-null   int64  \n",
      " 44  LowQualFinSF   1459 non-null   int64  \n",
      " 45  GrLivArea      1459 non-null   int64  \n",
      " 46  BsmtFullBath   1457 non-null   float64\n",
      " 47  BsmtHalfBath   1457 non-null   float64\n",
      " 48  FullBath       1459 non-null   int64  \n",
      " 49  HalfBath       1459 non-null   int64  \n",
      " 50  BedroomAbvGr   1459 non-null   int64  \n",
      " 51  KitchenAbvGr   1459 non-null   int64  \n",
      " 52  KitchenQual    1458 non-null   object \n",
      " 53  TotRmsAbvGrd   1459 non-null   int64  \n",
      " 54  Functional     1457 non-null   object \n",
      " 55  Fireplaces     1459 non-null   int64  \n",
      " 56  FireplaceQu    729 non-null    object \n",
      " 57  GarageType     1383 non-null   object \n",
      " 58  GarageYrBlt    1381 non-null   float64\n",
      " 59  GarageFinish   1381 non-null   object \n",
      " 60  GarageCars     1458 non-null   float64\n",
      " 61  GarageArea     1458 non-null   float64\n",
      " 62  GarageQual     1381 non-null   object \n",
      " 63  GarageCond     1381 non-null   object \n",
      " 64  PavedDrive     1459 non-null   object \n",
      " 65  WoodDeckSF     1459 non-null   int64  \n",
      " 66  OpenPorchSF    1459 non-null   int64  \n",
      " 67  EnclosedPorch  1459 non-null   int64  \n",
      " 68  3SsnPorch      1459 non-null   int64  \n",
      " 69  ScreenPorch    1459 non-null   int64  \n",
      " 70  PoolArea       1459 non-null   int64  \n",
      " 71  PoolQC         3 non-null      object \n",
      " 72  Fence          290 non-null    object \n",
      " 73  MiscFeature    51 non-null     object \n",
      " 74  MiscVal        1459 non-null   int64  \n",
      " 75  MoSold         1459 non-null   int64  \n",
      " 76  YrSold         1459 non-null   int64  \n",
      " 77  SaleType       1458 non-null   object \n",
      " 78  SaleCondition  1459 non-null   object \n",
      "dtypes: float64(11), int64(25), object(43)\n",
      "memory usage: 911.9+ KB\n"
     ]
    }
   ],
   "source": [
    "test_data.info()"
   ]
  },
  {
   "cell_type": "code",
   "execution_count": 9,
   "metadata": {
    "colab": {
     "base_uri": "https://localhost:8080/",
     "height": 331
    },
    "datalore": {
     "hide_input_from_viewers": false,
     "hide_output_from_viewers": false,
     "node_id": "PtlgCCQ1tenYmqz4uqrL0r",
     "type": "CODE"
    },
    "id": "MtxcBeNsLbQR",
    "outputId": "0b8e8b0e-fcf5-405d-f289-073ddad0948d"
   },
   "outputs": [
    {
     "data": {
      "text/html": [
       "\n",
       "  <div id=\"df-d0c1140b-2479-406d-bc19-1496d24aaf06\">\n",
       "    <div class=\"colab-df-container\">\n",
       "      <div>\n",
       "<style scoped>\n",
       "    .dataframe tbody tr th:only-of-type {\n",
       "        vertical-align: middle;\n",
       "    }\n",
       "\n",
       "    .dataframe tbody tr th {\n",
       "        vertical-align: top;\n",
       "    }\n",
       "\n",
       "    .dataframe thead th {\n",
       "        text-align: right;\n",
       "    }\n",
       "</style>\n",
       "<table border=\"1\" class=\"dataframe\">\n",
       "  <thead>\n",
       "    <tr style=\"text-align: right;\">\n",
       "      <th></th>\n",
       "      <th>MSSubClass</th>\n",
       "      <th>MSZoning</th>\n",
       "      <th>LotFrontage</th>\n",
       "      <th>LotArea</th>\n",
       "      <th>Street</th>\n",
       "      <th>Alley</th>\n",
       "      <th>LotShape</th>\n",
       "      <th>LandContour</th>\n",
       "      <th>Utilities</th>\n",
       "      <th>LotConfig</th>\n",
       "      <th>...</th>\n",
       "      <th>ScreenPorch</th>\n",
       "      <th>PoolArea</th>\n",
       "      <th>PoolQC</th>\n",
       "      <th>Fence</th>\n",
       "      <th>MiscFeature</th>\n",
       "      <th>MiscVal</th>\n",
       "      <th>MoSold</th>\n",
       "      <th>YrSold</th>\n",
       "      <th>SaleType</th>\n",
       "      <th>SaleCondition</th>\n",
       "    </tr>\n",
       "    <tr>\n",
       "      <th>Id</th>\n",
       "      <th></th>\n",
       "      <th></th>\n",
       "      <th></th>\n",
       "      <th></th>\n",
       "      <th></th>\n",
       "      <th></th>\n",
       "      <th></th>\n",
       "      <th></th>\n",
       "      <th></th>\n",
       "      <th></th>\n",
       "      <th></th>\n",
       "      <th></th>\n",
       "      <th></th>\n",
       "      <th></th>\n",
       "      <th></th>\n",
       "      <th></th>\n",
       "      <th></th>\n",
       "      <th></th>\n",
       "      <th></th>\n",
       "      <th></th>\n",
       "      <th></th>\n",
       "    </tr>\n",
       "  </thead>\n",
       "  <tbody>\n",
       "    <tr>\n",
       "      <th>1461</th>\n",
       "      <td>20</td>\n",
       "      <td>RH</td>\n",
       "      <td>80.0</td>\n",
       "      <td>11622</td>\n",
       "      <td>Pave</td>\n",
       "      <td>NaN</td>\n",
       "      <td>Reg</td>\n",
       "      <td>Lvl</td>\n",
       "      <td>AllPub</td>\n",
       "      <td>Inside</td>\n",
       "      <td>...</td>\n",
       "      <td>120</td>\n",
       "      <td>0</td>\n",
       "      <td>NaN</td>\n",
       "      <td>MnPrv</td>\n",
       "      <td>NaN</td>\n",
       "      <td>0</td>\n",
       "      <td>6</td>\n",
       "      <td>2010</td>\n",
       "      <td>WD</td>\n",
       "      <td>Normal</td>\n",
       "    </tr>\n",
       "    <tr>\n",
       "      <th>1462</th>\n",
       "      <td>20</td>\n",
       "      <td>RL</td>\n",
       "      <td>81.0</td>\n",
       "      <td>14267</td>\n",
       "      <td>Pave</td>\n",
       "      <td>NaN</td>\n",
       "      <td>IR1</td>\n",
       "      <td>Lvl</td>\n",
       "      <td>AllPub</td>\n",
       "      <td>Corner</td>\n",
       "      <td>...</td>\n",
       "      <td>0</td>\n",
       "      <td>0</td>\n",
       "      <td>NaN</td>\n",
       "      <td>NaN</td>\n",
       "      <td>Gar2</td>\n",
       "      <td>12500</td>\n",
       "      <td>6</td>\n",
       "      <td>2010</td>\n",
       "      <td>WD</td>\n",
       "      <td>Normal</td>\n",
       "    </tr>\n",
       "    <tr>\n",
       "      <th>1463</th>\n",
       "      <td>60</td>\n",
       "      <td>RL</td>\n",
       "      <td>74.0</td>\n",
       "      <td>13830</td>\n",
       "      <td>Pave</td>\n",
       "      <td>NaN</td>\n",
       "      <td>IR1</td>\n",
       "      <td>Lvl</td>\n",
       "      <td>AllPub</td>\n",
       "      <td>Inside</td>\n",
       "      <td>...</td>\n",
       "      <td>0</td>\n",
       "      <td>0</td>\n",
       "      <td>NaN</td>\n",
       "      <td>MnPrv</td>\n",
       "      <td>NaN</td>\n",
       "      <td>0</td>\n",
       "      <td>3</td>\n",
       "      <td>2010</td>\n",
       "      <td>WD</td>\n",
       "      <td>Normal</td>\n",
       "    </tr>\n",
       "    <tr>\n",
       "      <th>1464</th>\n",
       "      <td>60</td>\n",
       "      <td>RL</td>\n",
       "      <td>78.0</td>\n",
       "      <td>9978</td>\n",
       "      <td>Pave</td>\n",
       "      <td>NaN</td>\n",
       "      <td>IR1</td>\n",
       "      <td>Lvl</td>\n",
       "      <td>AllPub</td>\n",
       "      <td>Inside</td>\n",
       "      <td>...</td>\n",
       "      <td>0</td>\n",
       "      <td>0</td>\n",
       "      <td>NaN</td>\n",
       "      <td>NaN</td>\n",
       "      <td>NaN</td>\n",
       "      <td>0</td>\n",
       "      <td>6</td>\n",
       "      <td>2010</td>\n",
       "      <td>WD</td>\n",
       "      <td>Normal</td>\n",
       "    </tr>\n",
       "    <tr>\n",
       "      <th>1465</th>\n",
       "      <td>120</td>\n",
       "      <td>RL</td>\n",
       "      <td>43.0</td>\n",
       "      <td>5005</td>\n",
       "      <td>Pave</td>\n",
       "      <td>NaN</td>\n",
       "      <td>IR1</td>\n",
       "      <td>HLS</td>\n",
       "      <td>AllPub</td>\n",
       "      <td>Inside</td>\n",
       "      <td>...</td>\n",
       "      <td>144</td>\n",
       "      <td>0</td>\n",
       "      <td>NaN</td>\n",
       "      <td>NaN</td>\n",
       "      <td>NaN</td>\n",
       "      <td>0</td>\n",
       "      <td>1</td>\n",
       "      <td>2010</td>\n",
       "      <td>WD</td>\n",
       "      <td>Normal</td>\n",
       "    </tr>\n",
       "  </tbody>\n",
       "</table>\n",
       "<p>5 rows × 79 columns</p>\n",
       "</div>\n",
       "      <button class=\"colab-df-convert\" onclick=\"convertToInteractive('df-d0c1140b-2479-406d-bc19-1496d24aaf06')\"\n",
       "              title=\"Convert this dataframe to an interactive table.\"\n",
       "              style=\"display:none;\">\n",
       "        \n",
       "  <svg xmlns=\"http://www.w3.org/2000/svg\" height=\"24px\"viewBox=\"0 0 24 24\"\n",
       "       width=\"24px\">\n",
       "    <path d=\"M0 0h24v24H0V0z\" fill=\"none\"/>\n",
       "    <path d=\"M18.56 5.44l.94 2.06.94-2.06 2.06-.94-2.06-.94-.94-2.06-.94 2.06-2.06.94zm-11 1L8.5 8.5l.94-2.06 2.06-.94-2.06-.94L8.5 2.5l-.94 2.06-2.06.94zm10 10l.94 2.06.94-2.06 2.06-.94-2.06-.94-.94-2.06-.94 2.06-2.06.94z\"/><path d=\"M17.41 7.96l-1.37-1.37c-.4-.4-.92-.59-1.43-.59-.52 0-1.04.2-1.43.59L10.3 9.45l-7.72 7.72c-.78.78-.78 2.05 0 2.83L4 21.41c.39.39.9.59 1.41.59.51 0 1.02-.2 1.41-.59l7.78-7.78 2.81-2.81c.8-.78.8-2.07 0-2.86zM5.41 20L4 18.59l7.72-7.72 1.47 1.35L5.41 20z\"/>\n",
       "  </svg>\n",
       "      </button>\n",
       "      \n",
       "  <style>\n",
       "    .colab-df-container {\n",
       "      display:flex;\n",
       "      flex-wrap:wrap;\n",
       "      gap: 12px;\n",
       "    }\n",
       "\n",
       "    .colab-df-convert {\n",
       "      background-color: #E8F0FE;\n",
       "      border: none;\n",
       "      border-radius: 50%;\n",
       "      cursor: pointer;\n",
       "      display: none;\n",
       "      fill: #1967D2;\n",
       "      height: 32px;\n",
       "      padding: 0 0 0 0;\n",
       "      width: 32px;\n",
       "    }\n",
       "\n",
       "    .colab-df-convert:hover {\n",
       "      background-color: #E2EBFA;\n",
       "      box-shadow: 0px 1px 2px rgba(60, 64, 67, 0.3), 0px 1px 3px 1px rgba(60, 64, 67, 0.15);\n",
       "      fill: #174EA6;\n",
       "    }\n",
       "\n",
       "    [theme=dark] .colab-df-convert {\n",
       "      background-color: #3B4455;\n",
       "      fill: #D2E3FC;\n",
       "    }\n",
       "\n",
       "    [theme=dark] .colab-df-convert:hover {\n",
       "      background-color: #434B5C;\n",
       "      box-shadow: 0px 1px 3px 1px rgba(0, 0, 0, 0.15);\n",
       "      filter: drop-shadow(0px 1px 2px rgba(0, 0, 0, 0.3));\n",
       "      fill: #FFFFFF;\n",
       "    }\n",
       "  </style>\n",
       "\n",
       "      <script>\n",
       "        const buttonEl =\n",
       "          document.querySelector('#df-d0c1140b-2479-406d-bc19-1496d24aaf06 button.colab-df-convert');\n",
       "        buttonEl.style.display =\n",
       "          google.colab.kernel.accessAllowed ? 'block' : 'none';\n",
       "\n",
       "        async function convertToInteractive(key) {\n",
       "          const element = document.querySelector('#df-d0c1140b-2479-406d-bc19-1496d24aaf06');\n",
       "          const dataTable =\n",
       "            await google.colab.kernel.invokeFunction('convertToInteractive',\n",
       "                                                     [key], {});\n",
       "          if (!dataTable) return;\n",
       "\n",
       "          const docLinkHtml = 'Like what you see? Visit the ' +\n",
       "            '<a target=\"_blank\" href=https://colab.research.google.com/notebooks/data_table.ipynb>data table notebook</a>'\n",
       "            + ' to learn more about interactive tables.';\n",
       "          element.innerHTML = '';\n",
       "          dataTable['output_type'] = 'display_data';\n",
       "          await google.colab.output.renderOutput(dataTable, element);\n",
       "          const docLink = document.createElement('div');\n",
       "          docLink.innerHTML = docLinkHtml;\n",
       "          element.appendChild(docLink);\n",
       "        }\n",
       "      </script>\n",
       "    </div>\n",
       "  </div>\n",
       "  "
      ],
      "text/plain": [
       "      MSSubClass MSZoning  LotFrontage  LotArea Street Alley LotShape  \\\n",
       "Id                                                                      \n",
       "1461          20       RH         80.0    11622   Pave   NaN      Reg   \n",
       "1462          20       RL         81.0    14267   Pave   NaN      IR1   \n",
       "1463          60       RL         74.0    13830   Pave   NaN      IR1   \n",
       "1464          60       RL         78.0     9978   Pave   NaN      IR1   \n",
       "1465         120       RL         43.0     5005   Pave   NaN      IR1   \n",
       "\n",
       "     LandContour Utilities LotConfig  ... ScreenPorch PoolArea PoolQC  Fence  \\\n",
       "Id                                    ...                                      \n",
       "1461         Lvl    AllPub    Inside  ...         120        0    NaN  MnPrv   \n",
       "1462         Lvl    AllPub    Corner  ...           0        0    NaN    NaN   \n",
       "1463         Lvl    AllPub    Inside  ...           0        0    NaN  MnPrv   \n",
       "1464         Lvl    AllPub    Inside  ...           0        0    NaN    NaN   \n",
       "1465         HLS    AllPub    Inside  ...         144        0    NaN    NaN   \n",
       "\n",
       "     MiscFeature MiscVal  MoSold  YrSold  SaleType  SaleCondition  \n",
       "Id                                                                 \n",
       "1461         NaN       0       6    2010        WD         Normal  \n",
       "1462        Gar2   12500       6    2010        WD         Normal  \n",
       "1463         NaN       0       3    2010        WD         Normal  \n",
       "1464         NaN       0       6    2010        WD         Normal  \n",
       "1465         NaN       0       1    2010        WD         Normal  \n",
       "\n",
       "[5 rows x 79 columns]"
      ]
     },
     "execution_count": 9,
     "metadata": {},
     "output_type": "execute_result"
    }
   ],
   "source": [
    "test_data.head()"
   ]
  },
  {
   "cell_type": "markdown",
   "metadata": {
    "datalore": {
     "hide_input_from_viewers": false,
     "hide_output_from_viewers": false,
     "node_id": "m2HZ1ayKDr8MOHpK2TtCFB",
     "type": "MD"
    },
    "id": "nV4KpKNxLbQS"
   },
   "source": [
    "As you can see, `train_data` has one more column than `test_data`, which is the `SalePrice` column, to train the model before applying it to predict labels in test_data."
   ]
  },
  {
   "cell_type": "markdown",
   "metadata": {
    "datalore": {
     "hide_input_from_viewers": false,
     "hide_output_from_viewers": false,
     "node_id": "LvA8hUPBQzVxQWBqcatifj",
     "type": "MD"
    },
    "id": "kr2legY1LbQS"
   },
   "source": [
    "### 4.2 Check if test_data has missing values (NaN)\n",
    "\n",
    "Build a function `def missing_value_checker` to check and count missing values in test_data. And also display the data type of these values.\n"
   ]
  },
  {
   "cell_type": "code",
   "execution_count": 10,
   "metadata": {
    "colab": {
     "base_uri": "https://localhost:8080/",
     "height": 0
    },
    "datalore": {
     "hide_input_from_viewers": false,
     "hide_output_from_viewers": false,
     "node_id": "pxUQWKUmcS70sX8fsExVI9",
     "type": "CODE"
    },
    "id": "uZozfaJbLbQS",
    "outputId": "17f00d3b-50b3-4f69-98f2-91e0e6e5d651"
   },
   "outputs": [
    {
     "name": "stdout",
     "output_type": "stream",
     "text": [
      "MSZoning: 4, type: object\n",
      "LotFrontage: 227, type: float64\n",
      "Alley: 1352, type: object\n",
      "Utilities: 2, type: object\n",
      "Exterior1st: 1, type: object\n",
      "Exterior2nd: 1, type: object\n",
      "MasVnrType: 16, type: object\n",
      "MasVnrArea: 15, type: float64\n",
      "BsmtQual: 44, type: object\n",
      "BsmtCond: 45, type: object\n",
      "BsmtExposure: 44, type: object\n",
      "BsmtFinType1: 42, type: object\n",
      "BsmtFinSF1: 1, type: float64\n",
      "BsmtFinType2: 42, type: object\n",
      "BsmtFinSF2: 1, type: float64\n",
      "BsmtUnfSF: 1, type: float64\n",
      "TotalBsmtSF: 1, type: float64\n",
      "BsmtFullBath: 2, type: float64\n",
      "BsmtHalfBath: 2, type: float64\n",
      "KitchenQual: 1, type: object\n",
      "Functional: 2, type: object\n",
      "FireplaceQu: 730, type: object\n",
      "GarageType: 76, type: object\n",
      "GarageYrBlt: 78, type: float64\n",
      "GarageFinish: 78, type: object\n",
      "GarageCars: 1, type: float64\n",
      "GarageArea: 1, type: float64\n",
      "GarageQual: 78, type: object\n",
      "GarageCond: 78, type: object\n",
      "PoolQC: 1456, type: object\n",
      "Fence: 1169, type: object\n",
      "MiscFeature: 1408, type: object\n",
      "SaleType: 1, type: object\n",
      "{'MSZoning': 4, 'LotFrontage': 227, 'Alley': 1352, 'Utilities': 2, 'Exterior1st': 1, 'Exterior2nd': 1, 'MasVnrType': 16, 'MasVnrArea': 15, 'BsmtQual': 44, 'BsmtCond': 45, 'BsmtExposure': 44, 'BsmtFinType1': 42, 'BsmtFinSF1': 1, 'BsmtFinType2': 42, 'BsmtFinSF2': 1, 'BsmtUnfSF': 1, 'TotalBsmtSF': 1, 'BsmtFullBath': 2, 'BsmtHalfBath': 2, 'KitchenQual': 1, 'Functional': 2, 'FireplaceQu': 730, 'GarageType': 76, 'GarageYrBlt': 78, 'GarageFinish': 78, 'GarageCars': 1, 'GarageArea': 1, 'GarageQual': 78, 'GarageCond': 78, 'PoolQC': 1456, 'Fence': 1169, 'MiscFeature': 1408, 'SaleType': 1}\n",
      "33\n"
     ]
    }
   ],
   "source": [
    "def missing_value_checker(data: pd.DataFrame) -> dict:\n",
    "    \"\"\"\n",
    "    It takes a dataframe as an input and returns a dictionary of features with\n",
    "    missing values and the number of missing values\n",
    "    \n",
    "    :param data: the dataframe you want to check\n",
    "    :type data: pd.DataFrame\n",
    "    :return: A dictionary with the feature name as the key and the number of missing\n",
    "    values as the value.\n",
    "    \"\"\"\n",
    "    missing_dict = {} # {feature_name: missing_count}\n",
    "    for feature, content in data.items():\n",
    "        if data[feature].isnull().values.any():\n",
    "            \n",
    "            sum = data[feature].isna().sum()\n",
    "\n",
    "            type = data[feature].dtype\n",
    "\n",
    "            print(f'{feature}: {sum}, type: {type}')\n",
    "            \n",
    "            missing_dict[feature] = sum\n",
    "    print(missing_dict)\n",
    "\n",
    "    print(len(missing_dict))\n",
    "    return missing_dict\n",
    "\n",
    "\n",
    "missing_dict = missing_value_checker(test_data)"
   ]
  },
  {
   "cell_type": "markdown",
   "metadata": {
    "datalore": {
     "hide_input_from_viewers": false,
     "hide_output_from_viewers": false,
     "node_id": "U2c2Jm8OgAYtZqUCaBITi4",
     "type": "MD"
    },
    "id": "iLckRlunLbQT"
   },
   "source": [
    "Check which attributes in the table can be kept and which can be deleted. If there are too many missing values, we remove the attribute. If their number is small, then fill `mean` or `median` for numbers, a new category `missing` for string objects.\n",
    "\n",
    "According to this:\n",
    "\n",
    "- We will remove columns with missing values greater than 25% of the total number of samples..;\n",
    "\n",
    "- We fill the numeric missing value with a `mean` value;\n",
    "\n",
    "- fill the string missing value with the value `missing`."
   ]
  },
  {
   "cell_type": "code",
   "execution_count": 11,
   "metadata": {
    "colab": {
     "base_uri": "https://localhost:8080/",
     "height": 0
    },
    "id": "EdiFoMLy2dFZ",
    "outputId": "80437430-a337-42e3-e557-63c95170b66f"
   },
   "outputs": [
    {
     "data": {
      "text/plain": [
       "['Alley', 'FireplaceQu', 'PoolQC', 'Fence', 'MiscFeature']"
      ]
     },
     "execution_count": 11,
     "metadata": {},
     "output_type": "execute_result"
    }
   ],
   "source": [
    "def get_features_to_remove(input_data: pd.DataFrame,\n",
    "                          missing_dict: dict, \n",
    "                          threshold: float) -> list:\n",
    "    count_row = input_data.shape[0]\n",
    "    features_to_remove = []\n",
    "    for feature, missing_count in missing_dict.items():\n",
    "        missing_rate = missing_count / count_row\n",
    "        if missing_rate >= threshold:\n",
    "            features_to_remove.append(feature)\n",
    "    return features_to_remove\n",
    "  \n",
    "features_to_remove = get_features_to_remove(train_data, missing_dict, 0.25)\n",
    "features_to_remove"
   ]
  },
  {
   "cell_type": "code",
   "execution_count": 12,
   "metadata": {
    "id": "RHUJQZMIVD2w"
   },
   "outputs": [],
   "source": [
    "train_edited = train_data.drop(features_to_remove, axis=1)"
   ]
  },
  {
   "cell_type": "code",
   "execution_count": 13,
   "metadata": {
    "id": "NYj1SGo_VWyR"
   },
   "outputs": [],
   "source": [
    "test_edited = test_data.drop(features_to_remove, axis=1)"
   ]
  },
  {
   "cell_type": "code",
   "execution_count": 14,
   "metadata": {
    "datalore": {
     "hide_input_from_viewers": false,
     "hide_output_from_viewers": false,
     "node_id": "2KCsgKLRNIzdZGdZDJavSo",
     "type": "CODE"
    },
    "id": "gtd_VeeZLbQT"
   },
   "outputs": [],
   "source": [
    "def nan_filler(data):\n",
    "    for label, content in data.items():\n",
    "        if pd.api.types.is_numeric_dtype(content):\n",
    "            data[label] = content.fillna(content.median())\n",
    "        else:\n",
    "            data[label] = content.astype(\"category\").cat.as_ordered()\n",
    "            data[label] = pd.Categorical(content).codes+1\n",
    "\n",
    "nan_filler(test_edited)\n",
    "nan_filler(train_edited)"
   ]
  },
  {
   "cell_type": "markdown",
   "metadata": {
    "datalore": {
     "hide_input_from_viewers": false,
     "hide_output_from_viewers": false,
     "node_id": "at2x2hjP7J2ggCGjl4bDdp",
     "type": "MD"
    },
    "id": "ni8neH4fLbQT"
   },
   "source": [
    "### 4.3 Re-check our data:"
   ]
  },
  {
   "cell_type": "code",
   "execution_count": 15,
   "metadata": {
    "colab": {
     "base_uri": "https://localhost:8080/",
     "height": 0
    },
    "datalore": {
     "hide_input_from_viewers": false,
     "hide_output_from_viewers": false,
     "node_id": "ndeDW0XUjTNQZbl08hStGd",
     "type": "CODE"
    },
    "id": "sEWQ3Fl8LbQU",
    "outputId": "b3cb3c62-dff0-41ea-fe52-35043bf42a22"
   },
   "outputs": [
    {
     "name": "stdout",
     "output_type": "stream",
     "text": [
      "{}\n",
      "0\n"
     ]
    },
    {
     "data": {
      "text/plain": [
       "{}"
      ]
     },
     "execution_count": 15,
     "metadata": {},
     "output_type": "execute_result"
    }
   ],
   "source": [
    "missing_value_checker(test_edited)"
   ]
  },
  {
   "cell_type": "code",
   "execution_count": 16,
   "metadata": {
    "colab": {
     "base_uri": "https://localhost:8080/",
     "height": 0
    },
    "datalore": {
     "hide_input_from_viewers": false,
     "hide_output_from_viewers": false,
     "node_id": "wLLxXh3dPBZhWswJRtePAF",
     "type": "CODE"
    },
    "id": "txVt1AMbLbQU",
    "outputId": "fc5177db-6739-4ed5-8533-de08381ac124"
   },
   "outputs": [
    {
     "name": "stdout",
     "output_type": "stream",
     "text": [
      "{}\n",
      "0\n"
     ]
    },
    {
     "data": {
      "text/plain": [
       "{}"
      ]
     },
     "execution_count": 16,
     "metadata": {},
     "output_type": "execute_result"
    }
   ],
   "source": [
    "missing_value_checker(train_edited)"
   ]
  },
  {
   "cell_type": "code",
   "execution_count": 17,
   "metadata": {
    "colab": {
     "base_uri": "https://localhost:8080/",
     "height": 0
    },
    "datalore": {
     "hide_input_from_viewers": false,
     "hide_output_from_viewers": false,
     "node_id": "uun8jPN10ZuxbG043ZksEJ",
     "type": "CODE"
    },
    "id": "Mpf7Y87nLbQU",
    "outputId": "44a6abca-09f8-4fce-e249-081b59e011c8"
   },
   "outputs": [
    {
     "data": {
      "text/plain": [
       "((1460, 75), (1459, 74))"
      ]
     },
     "execution_count": 17,
     "metadata": {},
     "output_type": "execute_result"
    }
   ],
   "source": [
    "train_edited.shape, test_edited.shape"
   ]
  },
  {
   "cell_type": "code",
   "execution_count": null,
   "metadata": {
    "datalore": {
     "hide_input_from_viewers": false,
     "hide_output_from_viewers": false,
     "node_id": "F2soDeOs0hu9vFpzLvQWtO",
     "type": "CODE"
    },
    "id": "7qPNtsJkLbQU"
   },
   "outputs": [],
   "source": [
    "train_edited.info()"
   ]
  },
  {
   "cell_type": "code",
   "execution_count": null,
   "metadata": {
    "datalore": {
     "hide_input_from_viewers": false,
     "hide_output_from_viewers": false,
     "node_id": "Rlx0t4SQFyHXlcaeU5CL3e",
     "type": "CODE"
    },
    "id": "NO6S72gMLbQU"
   },
   "outputs": [],
   "source": [
    "test_edited.info()"
   ]
  },
  {
   "cell_type": "markdown",
   "metadata": {
    "id": "07Yb7WZmdX2n"
   },
   "source": [
    "### 4.4 Data scaling"
   ]
  },
  {
   "cell_type": "code",
   "execution_count": 20,
   "metadata": {
    "id": "GNZ_vwxMdkJe"
   },
   "outputs": [],
   "source": [
    "# scale\n",
    "import sklearn\n",
    "\n",
    "def scale(df: pd.DataFrame, scaler: sklearn.base.BaseEstimator) -> pd.DataFrame:\n",
    "    columns = df.columns\n",
    "    df[columns] = scaler.fit_transform(df[columns])\n",
    "    return df\n",
    "    "
   ]
  },
  {
   "cell_type": "code",
   "execution_count": 21,
   "metadata": {
    "id": "TzoVuCOadsJn"
   },
   "outputs": [],
   "source": [
    "X = train_edited.drop('SalePrice', axis=1)\n",
    "y = train_edited['SalePrice']"
   ]
  },
  {
   "cell_type": "code",
   "execution_count": 22,
   "metadata": {
    "id": "9lgKwlPsdtil"
   },
   "outputs": [],
   "source": [
    "# Using min max scaler \n",
    "from sklearn.preprocessing import MinMaxScaler\n",
    "\n",
    "scaler = MinMaxScaler()\n",
    "\n",
    "X = scale(X, scaler)\n",
    "test_edited =scale(test_edited, scaler)"
   ]
  },
  {
   "cell_type": "markdown",
   "metadata": {
    "id": "7JvwJeiO9rYq"
   },
   "source": [
    "Check again"
   ]
  },
  {
   "cell_type": "code",
   "execution_count": 23,
   "metadata": {
    "colab": {
     "base_uri": "https://localhost:8080/",
     "height": 331
    },
    "id": "GriuSF7NeA9B",
    "outputId": "574cf01a-d2b3-4dd3-89be-e8997eb5adac"
   },
   "outputs": [
    {
     "data": {
      "text/html": [
       "\n",
       "  <div id=\"df-c8967cfb-0b93-47d0-8baa-ddfa78dec848\">\n",
       "    <div class=\"colab-df-container\">\n",
       "      <div>\n",
       "<style scoped>\n",
       "    .dataframe tbody tr th:only-of-type {\n",
       "        vertical-align: middle;\n",
       "    }\n",
       "\n",
       "    .dataframe tbody tr th {\n",
       "        vertical-align: top;\n",
       "    }\n",
       "\n",
       "    .dataframe thead th {\n",
       "        text-align: right;\n",
       "    }\n",
       "</style>\n",
       "<table border=\"1\" class=\"dataframe\">\n",
       "  <thead>\n",
       "    <tr style=\"text-align: right;\">\n",
       "      <th></th>\n",
       "      <th>MSSubClass</th>\n",
       "      <th>MSZoning</th>\n",
       "      <th>LotFrontage</th>\n",
       "      <th>LotArea</th>\n",
       "      <th>Street</th>\n",
       "      <th>LotShape</th>\n",
       "      <th>LandContour</th>\n",
       "      <th>Utilities</th>\n",
       "      <th>LotConfig</th>\n",
       "      <th>LandSlope</th>\n",
       "      <th>...</th>\n",
       "      <th>OpenPorchSF</th>\n",
       "      <th>EnclosedPorch</th>\n",
       "      <th>3SsnPorch</th>\n",
       "      <th>ScreenPorch</th>\n",
       "      <th>PoolArea</th>\n",
       "      <th>MiscVal</th>\n",
       "      <th>MoSold</th>\n",
       "      <th>YrSold</th>\n",
       "      <th>SaleType</th>\n",
       "      <th>SaleCondition</th>\n",
       "    </tr>\n",
       "    <tr>\n",
       "      <th>Id</th>\n",
       "      <th></th>\n",
       "      <th></th>\n",
       "      <th></th>\n",
       "      <th></th>\n",
       "      <th></th>\n",
       "      <th></th>\n",
       "      <th></th>\n",
       "      <th></th>\n",
       "      <th></th>\n",
       "      <th></th>\n",
       "      <th></th>\n",
       "      <th></th>\n",
       "      <th></th>\n",
       "      <th></th>\n",
       "      <th></th>\n",
       "      <th></th>\n",
       "      <th></th>\n",
       "      <th></th>\n",
       "      <th></th>\n",
       "      <th></th>\n",
       "      <th></th>\n",
       "    </tr>\n",
       "  </thead>\n",
       "  <tbody>\n",
       "    <tr>\n",
       "      <th>1</th>\n",
       "      <td>0.235294</td>\n",
       "      <td>0.75</td>\n",
       "      <td>0.150685</td>\n",
       "      <td>0.033420</td>\n",
       "      <td>1.0</td>\n",
       "      <td>1.0</td>\n",
       "      <td>1.0</td>\n",
       "      <td>0.0</td>\n",
       "      <td>1.0</td>\n",
       "      <td>0.0</td>\n",
       "      <td>...</td>\n",
       "      <td>0.111517</td>\n",
       "      <td>0.000000</td>\n",
       "      <td>0.0</td>\n",
       "      <td>0.0</td>\n",
       "      <td>0.0</td>\n",
       "      <td>0.0</td>\n",
       "      <td>0.090909</td>\n",
       "      <td>0.50</td>\n",
       "      <td>1.0</td>\n",
       "      <td>0.8</td>\n",
       "    </tr>\n",
       "    <tr>\n",
       "      <th>2</th>\n",
       "      <td>0.000000</td>\n",
       "      <td>0.75</td>\n",
       "      <td>0.202055</td>\n",
       "      <td>0.038795</td>\n",
       "      <td>1.0</td>\n",
       "      <td>1.0</td>\n",
       "      <td>1.0</td>\n",
       "      <td>0.0</td>\n",
       "      <td>0.5</td>\n",
       "      <td>0.0</td>\n",
       "      <td>...</td>\n",
       "      <td>0.000000</td>\n",
       "      <td>0.000000</td>\n",
       "      <td>0.0</td>\n",
       "      <td>0.0</td>\n",
       "      <td>0.0</td>\n",
       "      <td>0.0</td>\n",
       "      <td>0.363636</td>\n",
       "      <td>0.25</td>\n",
       "      <td>1.0</td>\n",
       "      <td>0.8</td>\n",
       "    </tr>\n",
       "    <tr>\n",
       "      <th>3</th>\n",
       "      <td>0.235294</td>\n",
       "      <td>0.75</td>\n",
       "      <td>0.160959</td>\n",
       "      <td>0.046507</td>\n",
       "      <td>1.0</td>\n",
       "      <td>0.0</td>\n",
       "      <td>1.0</td>\n",
       "      <td>0.0</td>\n",
       "      <td>1.0</td>\n",
       "      <td>0.0</td>\n",
       "      <td>...</td>\n",
       "      <td>0.076782</td>\n",
       "      <td>0.000000</td>\n",
       "      <td>0.0</td>\n",
       "      <td>0.0</td>\n",
       "      <td>0.0</td>\n",
       "      <td>0.0</td>\n",
       "      <td>0.727273</td>\n",
       "      <td>0.50</td>\n",
       "      <td>1.0</td>\n",
       "      <td>0.8</td>\n",
       "    </tr>\n",
       "    <tr>\n",
       "      <th>4</th>\n",
       "      <td>0.294118</td>\n",
       "      <td>0.75</td>\n",
       "      <td>0.133562</td>\n",
       "      <td>0.038561</td>\n",
       "      <td>1.0</td>\n",
       "      <td>0.0</td>\n",
       "      <td>1.0</td>\n",
       "      <td>0.0</td>\n",
       "      <td>0.0</td>\n",
       "      <td>0.0</td>\n",
       "      <td>...</td>\n",
       "      <td>0.063985</td>\n",
       "      <td>0.492754</td>\n",
       "      <td>0.0</td>\n",
       "      <td>0.0</td>\n",
       "      <td>0.0</td>\n",
       "      <td>0.0</td>\n",
       "      <td>0.090909</td>\n",
       "      <td>0.00</td>\n",
       "      <td>1.0</td>\n",
       "      <td>0.0</td>\n",
       "    </tr>\n",
       "    <tr>\n",
       "      <th>5</th>\n",
       "      <td>0.235294</td>\n",
       "      <td>0.75</td>\n",
       "      <td>0.215753</td>\n",
       "      <td>0.060576</td>\n",
       "      <td>1.0</td>\n",
       "      <td>0.0</td>\n",
       "      <td>1.0</td>\n",
       "      <td>0.0</td>\n",
       "      <td>0.5</td>\n",
       "      <td>0.0</td>\n",
       "      <td>...</td>\n",
       "      <td>0.153565</td>\n",
       "      <td>0.000000</td>\n",
       "      <td>0.0</td>\n",
       "      <td>0.0</td>\n",
       "      <td>0.0</td>\n",
       "      <td>0.0</td>\n",
       "      <td>1.000000</td>\n",
       "      <td>0.50</td>\n",
       "      <td>1.0</td>\n",
       "      <td>0.8</td>\n",
       "    </tr>\n",
       "  </tbody>\n",
       "</table>\n",
       "<p>5 rows × 74 columns</p>\n",
       "</div>\n",
       "      <button class=\"colab-df-convert\" onclick=\"convertToInteractive('df-c8967cfb-0b93-47d0-8baa-ddfa78dec848')\"\n",
       "              title=\"Convert this dataframe to an interactive table.\"\n",
       "              style=\"display:none;\">\n",
       "        \n",
       "  <svg xmlns=\"http://www.w3.org/2000/svg\" height=\"24px\"viewBox=\"0 0 24 24\"\n",
       "       width=\"24px\">\n",
       "    <path d=\"M0 0h24v24H0V0z\" fill=\"none\"/>\n",
       "    <path d=\"M18.56 5.44l.94 2.06.94-2.06 2.06-.94-2.06-.94-.94-2.06-.94 2.06-2.06.94zm-11 1L8.5 8.5l.94-2.06 2.06-.94-2.06-.94L8.5 2.5l-.94 2.06-2.06.94zm10 10l.94 2.06.94-2.06 2.06-.94-2.06-.94-.94-2.06-.94 2.06-2.06.94z\"/><path d=\"M17.41 7.96l-1.37-1.37c-.4-.4-.92-.59-1.43-.59-.52 0-1.04.2-1.43.59L10.3 9.45l-7.72 7.72c-.78.78-.78 2.05 0 2.83L4 21.41c.39.39.9.59 1.41.59.51 0 1.02-.2 1.41-.59l7.78-7.78 2.81-2.81c.8-.78.8-2.07 0-2.86zM5.41 20L4 18.59l7.72-7.72 1.47 1.35L5.41 20z\"/>\n",
       "  </svg>\n",
       "      </button>\n",
       "      \n",
       "  <style>\n",
       "    .colab-df-container {\n",
       "      display:flex;\n",
       "      flex-wrap:wrap;\n",
       "      gap: 12px;\n",
       "    }\n",
       "\n",
       "    .colab-df-convert {\n",
       "      background-color: #E8F0FE;\n",
       "      border: none;\n",
       "      border-radius: 50%;\n",
       "      cursor: pointer;\n",
       "      display: none;\n",
       "      fill: #1967D2;\n",
       "      height: 32px;\n",
       "      padding: 0 0 0 0;\n",
       "      width: 32px;\n",
       "    }\n",
       "\n",
       "    .colab-df-convert:hover {\n",
       "      background-color: #E2EBFA;\n",
       "      box-shadow: 0px 1px 2px rgba(60, 64, 67, 0.3), 0px 1px 3px 1px rgba(60, 64, 67, 0.15);\n",
       "      fill: #174EA6;\n",
       "    }\n",
       "\n",
       "    [theme=dark] .colab-df-convert {\n",
       "      background-color: #3B4455;\n",
       "      fill: #D2E3FC;\n",
       "    }\n",
       "\n",
       "    [theme=dark] .colab-df-convert:hover {\n",
       "      background-color: #434B5C;\n",
       "      box-shadow: 0px 1px 3px 1px rgba(0, 0, 0, 0.15);\n",
       "      filter: drop-shadow(0px 1px 2px rgba(0, 0, 0, 0.3));\n",
       "      fill: #FFFFFF;\n",
       "    }\n",
       "  </style>\n",
       "\n",
       "      <script>\n",
       "        const buttonEl =\n",
       "          document.querySelector('#df-c8967cfb-0b93-47d0-8baa-ddfa78dec848 button.colab-df-convert');\n",
       "        buttonEl.style.display =\n",
       "          google.colab.kernel.accessAllowed ? 'block' : 'none';\n",
       "\n",
       "        async function convertToInteractive(key) {\n",
       "          const element = document.querySelector('#df-c8967cfb-0b93-47d0-8baa-ddfa78dec848');\n",
       "          const dataTable =\n",
       "            await google.colab.kernel.invokeFunction('convertToInteractive',\n",
       "                                                     [key], {});\n",
       "          if (!dataTable) return;\n",
       "\n",
       "          const docLinkHtml = 'Like what you see? Visit the ' +\n",
       "            '<a target=\"_blank\" href=https://colab.research.google.com/notebooks/data_table.ipynb>data table notebook</a>'\n",
       "            + ' to learn more about interactive tables.';\n",
       "          element.innerHTML = '';\n",
       "          dataTable['output_type'] = 'display_data';\n",
       "          await google.colab.output.renderOutput(dataTable, element);\n",
       "          const docLink = document.createElement('div');\n",
       "          docLink.innerHTML = docLinkHtml;\n",
       "          element.appendChild(docLink);\n",
       "        }\n",
       "      </script>\n",
       "    </div>\n",
       "  </div>\n",
       "  "
      ],
      "text/plain": [
       "    MSSubClass  MSZoning  LotFrontage   LotArea  Street  LotShape  \\\n",
       "Id                                                                  \n",
       "1     0.235294      0.75     0.150685  0.033420     1.0       1.0   \n",
       "2     0.000000      0.75     0.202055  0.038795     1.0       1.0   \n",
       "3     0.235294      0.75     0.160959  0.046507     1.0       0.0   \n",
       "4     0.294118      0.75     0.133562  0.038561     1.0       0.0   \n",
       "5     0.235294      0.75     0.215753  0.060576     1.0       0.0   \n",
       "\n",
       "    LandContour  Utilities  LotConfig  LandSlope  ...  OpenPorchSF  \\\n",
       "Id                                                ...                \n",
       "1           1.0        0.0        1.0        0.0  ...     0.111517   \n",
       "2           1.0        0.0        0.5        0.0  ...     0.000000   \n",
       "3           1.0        0.0        1.0        0.0  ...     0.076782   \n",
       "4           1.0        0.0        0.0        0.0  ...     0.063985   \n",
       "5           1.0        0.0        0.5        0.0  ...     0.153565   \n",
       "\n",
       "    EnclosedPorch  3SsnPorch  ScreenPorch  PoolArea  MiscVal    MoSold  \\\n",
       "Id                                                                       \n",
       "1        0.000000        0.0          0.0       0.0      0.0  0.090909   \n",
       "2        0.000000        0.0          0.0       0.0      0.0  0.363636   \n",
       "3        0.000000        0.0          0.0       0.0      0.0  0.727273   \n",
       "4        0.492754        0.0          0.0       0.0      0.0  0.090909   \n",
       "5        0.000000        0.0          0.0       0.0      0.0  1.000000   \n",
       "\n",
       "    YrSold  SaleType  SaleCondition  \n",
       "Id                                   \n",
       "1     0.50       1.0            0.8  \n",
       "2     0.25       1.0            0.8  \n",
       "3     0.50       1.0            0.8  \n",
       "4     0.00       1.0            0.0  \n",
       "5     0.50       1.0            0.8  \n",
       "\n",
       "[5 rows x 74 columns]"
      ]
     },
     "execution_count": 23,
     "metadata": {},
     "output_type": "execute_result"
    }
   ],
   "source": [
    "X.head()"
   ]
  },
  {
   "cell_type": "code",
   "execution_count": 24,
   "metadata": {
    "colab": {
     "base_uri": "https://localhost:8080/",
     "height": 331
    },
    "id": "cxOr0aHN-PH1",
    "outputId": "f126bd0c-bc7a-4e62-e05d-3c8a5dd3346d"
   },
   "outputs": [
    {
     "data": {
      "text/html": [
       "\n",
       "  <div id=\"df-96f6b236-0d53-4d3b-bbb4-cf0753fb1c87\">\n",
       "    <div class=\"colab-df-container\">\n",
       "      <div>\n",
       "<style scoped>\n",
       "    .dataframe tbody tr th:only-of-type {\n",
       "        vertical-align: middle;\n",
       "    }\n",
       "\n",
       "    .dataframe tbody tr th {\n",
       "        vertical-align: top;\n",
       "    }\n",
       "\n",
       "    .dataframe thead th {\n",
       "        text-align: right;\n",
       "    }\n",
       "</style>\n",
       "<table border=\"1\" class=\"dataframe\">\n",
       "  <thead>\n",
       "    <tr style=\"text-align: right;\">\n",
       "      <th></th>\n",
       "      <th>MSSubClass</th>\n",
       "      <th>MSZoning</th>\n",
       "      <th>LotFrontage</th>\n",
       "      <th>LotArea</th>\n",
       "      <th>Street</th>\n",
       "      <th>LotShape</th>\n",
       "      <th>LandContour</th>\n",
       "      <th>Utilities</th>\n",
       "      <th>LotConfig</th>\n",
       "      <th>LandSlope</th>\n",
       "      <th>...</th>\n",
       "      <th>OpenPorchSF</th>\n",
       "      <th>EnclosedPorch</th>\n",
       "      <th>3SsnPorch</th>\n",
       "      <th>ScreenPorch</th>\n",
       "      <th>PoolArea</th>\n",
       "      <th>MiscVal</th>\n",
       "      <th>MoSold</th>\n",
       "      <th>YrSold</th>\n",
       "      <th>SaleType</th>\n",
       "      <th>SaleCondition</th>\n",
       "    </tr>\n",
       "    <tr>\n",
       "      <th>Id</th>\n",
       "      <th></th>\n",
       "      <th></th>\n",
       "      <th></th>\n",
       "      <th></th>\n",
       "      <th></th>\n",
       "      <th></th>\n",
       "      <th></th>\n",
       "      <th></th>\n",
       "      <th></th>\n",
       "      <th></th>\n",
       "      <th></th>\n",
       "      <th></th>\n",
       "      <th></th>\n",
       "      <th></th>\n",
       "      <th></th>\n",
       "      <th></th>\n",
       "      <th></th>\n",
       "      <th></th>\n",
       "      <th></th>\n",
       "      <th></th>\n",
       "      <th></th>\n",
       "    </tr>\n",
       "  </thead>\n",
       "  <tbody>\n",
       "    <tr>\n",
       "      <th>1461</th>\n",
       "      <td>0.000000</td>\n",
       "      <td>0.6</td>\n",
       "      <td>0.329609</td>\n",
       "      <td>0.184147</td>\n",
       "      <td>1.0</td>\n",
       "      <td>1.0</td>\n",
       "      <td>1.000000</td>\n",
       "      <td>1.0</td>\n",
       "      <td>1.0</td>\n",
       "      <td>0.0</td>\n",
       "      <td>...</td>\n",
       "      <td>0.000000</td>\n",
       "      <td>0.0</td>\n",
       "      <td>0.0</td>\n",
       "      <td>0.208333</td>\n",
       "      <td>0.0</td>\n",
       "      <td>0.000000</td>\n",
       "      <td>0.454545</td>\n",
       "      <td>1.0</td>\n",
       "      <td>1.0</td>\n",
       "      <td>0.8</td>\n",
       "    </tr>\n",
       "    <tr>\n",
       "      <th>1462</th>\n",
       "      <td>0.000000</td>\n",
       "      <td>0.8</td>\n",
       "      <td>0.335196</td>\n",
       "      <td>0.232124</td>\n",
       "      <td>1.0</td>\n",
       "      <td>0.0</td>\n",
       "      <td>1.000000</td>\n",
       "      <td>1.0</td>\n",
       "      <td>0.0</td>\n",
       "      <td>0.0</td>\n",
       "      <td>...</td>\n",
       "      <td>0.048518</td>\n",
       "      <td>0.0</td>\n",
       "      <td>0.0</td>\n",
       "      <td>0.000000</td>\n",
       "      <td>0.0</td>\n",
       "      <td>0.735294</td>\n",
       "      <td>0.454545</td>\n",
       "      <td>1.0</td>\n",
       "      <td>1.0</td>\n",
       "      <td>0.8</td>\n",
       "    </tr>\n",
       "    <tr>\n",
       "      <th>1463</th>\n",
       "      <td>0.235294</td>\n",
       "      <td>0.8</td>\n",
       "      <td>0.296089</td>\n",
       "      <td>0.224197</td>\n",
       "      <td>1.0</td>\n",
       "      <td>0.0</td>\n",
       "      <td>1.000000</td>\n",
       "      <td>1.0</td>\n",
       "      <td>1.0</td>\n",
       "      <td>0.0</td>\n",
       "      <td>...</td>\n",
       "      <td>0.045822</td>\n",
       "      <td>0.0</td>\n",
       "      <td>0.0</td>\n",
       "      <td>0.000000</td>\n",
       "      <td>0.0</td>\n",
       "      <td>0.000000</td>\n",
       "      <td>0.181818</td>\n",
       "      <td>1.0</td>\n",
       "      <td>1.0</td>\n",
       "      <td>0.8</td>\n",
       "    </tr>\n",
       "    <tr>\n",
       "      <th>1464</th>\n",
       "      <td>0.235294</td>\n",
       "      <td>0.8</td>\n",
       "      <td>0.318436</td>\n",
       "      <td>0.154326</td>\n",
       "      <td>1.0</td>\n",
       "      <td>0.0</td>\n",
       "      <td>1.000000</td>\n",
       "      <td>1.0</td>\n",
       "      <td>1.0</td>\n",
       "      <td>0.0</td>\n",
       "      <td>...</td>\n",
       "      <td>0.048518</td>\n",
       "      <td>0.0</td>\n",
       "      <td>0.0</td>\n",
       "      <td>0.000000</td>\n",
       "      <td>0.0</td>\n",
       "      <td>0.000000</td>\n",
       "      <td>0.454545</td>\n",
       "      <td>1.0</td>\n",
       "      <td>1.0</td>\n",
       "      <td>0.8</td>\n",
       "    </tr>\n",
       "    <tr>\n",
       "      <th>1465</th>\n",
       "      <td>0.588235</td>\n",
       "      <td>0.8</td>\n",
       "      <td>0.122905</td>\n",
       "      <td>0.064121</td>\n",
       "      <td>1.0</td>\n",
       "      <td>0.0</td>\n",
       "      <td>0.333333</td>\n",
       "      <td>1.0</td>\n",
       "      <td>1.0</td>\n",
       "      <td>0.0</td>\n",
       "      <td>...</td>\n",
       "      <td>0.110512</td>\n",
       "      <td>0.0</td>\n",
       "      <td>0.0</td>\n",
       "      <td>0.250000</td>\n",
       "      <td>0.0</td>\n",
       "      <td>0.000000</td>\n",
       "      <td>0.000000</td>\n",
       "      <td>1.0</td>\n",
       "      <td>1.0</td>\n",
       "      <td>0.8</td>\n",
       "    </tr>\n",
       "  </tbody>\n",
       "</table>\n",
       "<p>5 rows × 74 columns</p>\n",
       "</div>\n",
       "      <button class=\"colab-df-convert\" onclick=\"convertToInteractive('df-96f6b236-0d53-4d3b-bbb4-cf0753fb1c87')\"\n",
       "              title=\"Convert this dataframe to an interactive table.\"\n",
       "              style=\"display:none;\">\n",
       "        \n",
       "  <svg xmlns=\"http://www.w3.org/2000/svg\" height=\"24px\"viewBox=\"0 0 24 24\"\n",
       "       width=\"24px\">\n",
       "    <path d=\"M0 0h24v24H0V0z\" fill=\"none\"/>\n",
       "    <path d=\"M18.56 5.44l.94 2.06.94-2.06 2.06-.94-2.06-.94-.94-2.06-.94 2.06-2.06.94zm-11 1L8.5 8.5l.94-2.06 2.06-.94-2.06-.94L8.5 2.5l-.94 2.06-2.06.94zm10 10l.94 2.06.94-2.06 2.06-.94-2.06-.94-.94-2.06-.94 2.06-2.06.94z\"/><path d=\"M17.41 7.96l-1.37-1.37c-.4-.4-.92-.59-1.43-.59-.52 0-1.04.2-1.43.59L10.3 9.45l-7.72 7.72c-.78.78-.78 2.05 0 2.83L4 21.41c.39.39.9.59 1.41.59.51 0 1.02-.2 1.41-.59l7.78-7.78 2.81-2.81c.8-.78.8-2.07 0-2.86zM5.41 20L4 18.59l7.72-7.72 1.47 1.35L5.41 20z\"/>\n",
       "  </svg>\n",
       "      </button>\n",
       "      \n",
       "  <style>\n",
       "    .colab-df-container {\n",
       "      display:flex;\n",
       "      flex-wrap:wrap;\n",
       "      gap: 12px;\n",
       "    }\n",
       "\n",
       "    .colab-df-convert {\n",
       "      background-color: #E8F0FE;\n",
       "      border: none;\n",
       "      border-radius: 50%;\n",
       "      cursor: pointer;\n",
       "      display: none;\n",
       "      fill: #1967D2;\n",
       "      height: 32px;\n",
       "      padding: 0 0 0 0;\n",
       "      width: 32px;\n",
       "    }\n",
       "\n",
       "    .colab-df-convert:hover {\n",
       "      background-color: #E2EBFA;\n",
       "      box-shadow: 0px 1px 2px rgba(60, 64, 67, 0.3), 0px 1px 3px 1px rgba(60, 64, 67, 0.15);\n",
       "      fill: #174EA6;\n",
       "    }\n",
       "\n",
       "    [theme=dark] .colab-df-convert {\n",
       "      background-color: #3B4455;\n",
       "      fill: #D2E3FC;\n",
       "    }\n",
       "\n",
       "    [theme=dark] .colab-df-convert:hover {\n",
       "      background-color: #434B5C;\n",
       "      box-shadow: 0px 1px 3px 1px rgba(0, 0, 0, 0.15);\n",
       "      filter: drop-shadow(0px 1px 2px rgba(0, 0, 0, 0.3));\n",
       "      fill: #FFFFFF;\n",
       "    }\n",
       "  </style>\n",
       "\n",
       "      <script>\n",
       "        const buttonEl =\n",
       "          document.querySelector('#df-96f6b236-0d53-4d3b-bbb4-cf0753fb1c87 button.colab-df-convert');\n",
       "        buttonEl.style.display =\n",
       "          google.colab.kernel.accessAllowed ? 'block' : 'none';\n",
       "\n",
       "        async function convertToInteractive(key) {\n",
       "          const element = document.querySelector('#df-96f6b236-0d53-4d3b-bbb4-cf0753fb1c87');\n",
       "          const dataTable =\n",
       "            await google.colab.kernel.invokeFunction('convertToInteractive',\n",
       "                                                     [key], {});\n",
       "          if (!dataTable) return;\n",
       "\n",
       "          const docLinkHtml = 'Like what you see? Visit the ' +\n",
       "            '<a target=\"_blank\" href=https://colab.research.google.com/notebooks/data_table.ipynb>data table notebook</a>'\n",
       "            + ' to learn more about interactive tables.';\n",
       "          element.innerHTML = '';\n",
       "          dataTable['output_type'] = 'display_data';\n",
       "          await google.colab.output.renderOutput(dataTable, element);\n",
       "          const docLink = document.createElement('div');\n",
       "          docLink.innerHTML = docLinkHtml;\n",
       "          element.appendChild(docLink);\n",
       "        }\n",
       "      </script>\n",
       "    </div>\n",
       "  </div>\n",
       "  "
      ],
      "text/plain": [
       "      MSSubClass  MSZoning  LotFrontage   LotArea  Street  LotShape  \\\n",
       "Id                                                                    \n",
       "1461    0.000000       0.6     0.329609  0.184147     1.0       1.0   \n",
       "1462    0.000000       0.8     0.335196  0.232124     1.0       0.0   \n",
       "1463    0.235294       0.8     0.296089  0.224197     1.0       0.0   \n",
       "1464    0.235294       0.8     0.318436  0.154326     1.0       0.0   \n",
       "1465    0.588235       0.8     0.122905  0.064121     1.0       0.0   \n",
       "\n",
       "      LandContour  Utilities  LotConfig  LandSlope  ...  OpenPorchSF  \\\n",
       "Id                                                  ...                \n",
       "1461     1.000000        1.0        1.0        0.0  ...     0.000000   \n",
       "1462     1.000000        1.0        0.0        0.0  ...     0.048518   \n",
       "1463     1.000000        1.0        1.0        0.0  ...     0.045822   \n",
       "1464     1.000000        1.0        1.0        0.0  ...     0.048518   \n",
       "1465     0.333333        1.0        1.0        0.0  ...     0.110512   \n",
       "\n",
       "      EnclosedPorch  3SsnPorch  ScreenPorch  PoolArea   MiscVal    MoSold  \\\n",
       "Id                                                                          \n",
       "1461            0.0        0.0     0.208333       0.0  0.000000  0.454545   \n",
       "1462            0.0        0.0     0.000000       0.0  0.735294  0.454545   \n",
       "1463            0.0        0.0     0.000000       0.0  0.000000  0.181818   \n",
       "1464            0.0        0.0     0.000000       0.0  0.000000  0.454545   \n",
       "1465            0.0        0.0     0.250000       0.0  0.000000  0.000000   \n",
       "\n",
       "      YrSold  SaleType  SaleCondition  \n",
       "Id                                     \n",
       "1461     1.0       1.0            0.8  \n",
       "1462     1.0       1.0            0.8  \n",
       "1463     1.0       1.0            0.8  \n",
       "1464     1.0       1.0            0.8  \n",
       "1465     1.0       1.0            0.8  \n",
       "\n",
       "[5 rows x 74 columns]"
      ]
     },
     "execution_count": 24,
     "metadata": {},
     "output_type": "execute_result"
    }
   ],
   "source": [
    "test_edited.head()"
   ]
  },
  {
   "cell_type": "markdown",
   "metadata": {
    "datalore": {
     "hide_input_from_viewers": false,
     "hide_output_from_viewers": false,
     "node_id": "sctXpXpVAyHpq6e2u72Jit",
     "type": "MD"
    },
    "id": "-GIliNbuLbQU"
   },
   "source": [
    "### 4.4 Разделим данные\n",
    "\n",
    "Поскольку мы не знаем метку (Цена) тестовых данных, для оценки модели, чтобы получить лучшую модель перед прогнозированием тестовых данных, разделим данные в файле train.scv на обучающие и проверочные данные, соотношение составляет 20%."
   ]
  },
  {
   "cell_type": "code",
   "execution_count": 25,
   "metadata": {
    "datalore": {
     "hide_input_from_viewers": false,
     "hide_output_from_viewers": false,
     "node_id": "t8LurcYSC79LJFUQFBR6IP",
     "type": "CODE"
    },
    "id": "gRBzUDwVLbQV"
   },
   "outputs": [],
   "source": [
    "X_train, X_val, y_train, y_val = train_test_split(X, y, test_size = 0.2)"
   ]
  },
  {
   "cell_type": "code",
   "execution_count": 26,
   "metadata": {
    "colab": {
     "base_uri": "https://localhost:8080/",
     "height": 0
    },
    "datalore": {
     "hide_input_from_viewers": false,
     "hide_output_from_viewers": false,
     "node_id": "i93j4GwqcU1GyQ4VPlqVfO",
     "type": "CODE"
    },
    "id": "Jv3h2CF2LbQV",
    "outputId": "37bf73d0-f7eb-417d-a2a8-9e4d584dcbba"
   },
   "outputs": [
    {
     "data": {
      "text/plain": [
       "((1168, 74), (1459, 74))"
      ]
     },
     "execution_count": 26,
     "metadata": {},
     "output_type": "execute_result"
    }
   ],
   "source": [
    "X_train.shape, test_edited.shape"
   ]
  },
  {
   "cell_type": "markdown",
   "metadata": {
    "datalore": {
     "hide_input_from_viewers": false,
     "hide_output_from_viewers": false,
     "node_id": "rwifuS2QgPW48EMtsBXdFH",
     "type": "MD"
    },
    "id": "LrR0ypeFLbQV"
   },
   "source": [
    "## 5. Modeling"
   ]
  },
  {
   "cell_type": "markdown",
   "metadata": {
    "datalore": {
     "hide_input_from_viewers": false,
     "hide_output_from_viewers": false,
     "node_id": "ZV0KjiWMU6QB7jLp3j5yc8",
     "type": "MD"
    },
    "id": "HAZSvunOLbQV"
   },
   "source": [
    "### 5.1 Model building and training"
   ]
  },
  {
   "cell_type": "markdown",
   "metadata": {
    "datalore": {
     "hide_input_from_viewers": false,
     "hide_output_from_viewers": false,
     "node_id": "G277rUWTnvZaphr9V2bwEz",
     "type": "MD"
    },
    "id": "nzx8kQ-TLbQV"
   },
   "source": [
    "\n",
    "Create a consistent neural network model using neural network training frameworks Tensorflow."
   ]
  },
  {
   "cell_type": "markdown",
   "metadata": {
    "id": "E0W-8SuPeVli"
   },
   "source": [
    "**What is a \"Dense\" layer?** In any neural network, a dense layer is a layer that is closely related to the previous layer, which means that the neurons of the layer are connected to every neuron of the previous layer. This layer is the most commonly used layer in artificial neural networks.\n",
    "\n",
    "**Rectified Linear Unit** - It allows only positive values to pass through. Negative values are mapped to zero.\n",
    "$$f(s) = \\max(0, s)$$\n",
    "<p align=\"center\">\n",
    "  <img src=\"https://waksoft.susu.ru/wp-content/uploads/2021/11/relu1.png\" />\n",
    "</p>\n",
    "ReLU has been proven to significantly accelerate Deep Networks learning (according to Krizhevsky et al.). The figure below compares the convergence of SGD using two different activation functions: ReLU and tanh. This acceleration is due to the fact that ReLU is computed almost instantaneously, and its gradient is also computed very quickly: the gradient is 1 if input is greater than 0, zero if input is less than 0.\n",
    "\n",
    "<p align=\"center\">\n",
    "  <img src=\"https://machinelearningcoban.com/assets/14_mlp/alexplot.jpeg\" />\n",
    "</p>\n"
   ]
  },
  {
   "cell_type": "code",
   "execution_count": 27,
   "metadata": {
    "datalore": {
     "hide_input_from_viewers": false,
     "hide_output_from_viewers": false,
     "node_id": "MpU8VN6DOjpBNi6I834Lpu",
     "type": "CODE"
    },
    "id": "feNmsT8ZLbQV"
   },
   "outputs": [],
   "source": [
    "import tensorflow as tf\n",
    "from tensorflow.keras.models import Sequential\n",
    "from tensorflow.keras.layers import Input, Dense, Activation\n",
    "from tensorflow.keras.optimizers import Adam\n",
    "\n",
    "model = Sequential()\n",
    "\n",
    "# Input layer\n",
    "model.add(Input(shape=X_train.shape[1]))\n",
    "# Hidden layers\n",
    "model.add(Dense(64, activation='relu', name='layer_1'))\n",
    "model.add(Dense(32, activation='relu', name='layer_2'))\n",
    "model.add(Dense(16, activation='relu', name='layer_3'))\n",
    "# Output layer\n",
    "model.add(Dense(1, name='Output_layer'))\n",
    "\n",
    "\n",
    "# замените None на колличество входных полносвязных слоёв, колличество нейронов\n",
    "#, колличество выходов\n",
    "#Для обеспечения воспроизводимости результатов устанавливается функция seed\n",
    "tf.random.set_seed(40)"
   ]
  },
  {
   "cell_type": "code",
   "execution_count": 61,
   "metadata": {
    "colab": {
     "base_uri": "https://localhost:8080/",
     "height": 0
    },
    "id": "_c5ANEvEhuJT",
    "outputId": "9457f255-0d24-4820-a617-a9de14fb8987"
   },
   "outputs": [
    {
     "name": "stdout",
     "output_type": "stream",
     "text": [
      "Model: \"sequential\"\n",
      "_________________________________________________________________\n",
      " Layer (type)                Output Shape              Param #   \n",
      "=================================================================\n",
      " layer_1 (Dense)             (None, 64)                4800      \n",
      "                                                                 \n",
      " layer_2 (Dense)             (None, 32)                2080      \n",
      "                                                                 \n",
      " layer_3 (Dense)             (None, 16)                528       \n",
      "                                                                 \n",
      " Output_layer (Dense)        (None, 1)                 17        \n",
      "                                                                 \n",
      "=================================================================\n",
      "Total params: 7,425\n",
      "Trainable params: 7,425\n",
      "Non-trainable params: 0\n",
      "_________________________________________________________________\n"
     ]
    }
   ],
   "source": [
    "model.summary()"
   ]
  },
  {
   "cell_type": "code",
   "execution_count": 71,
   "metadata": {
    "colab": {
     "base_uri": "https://localhost:8080/",
     "height": 286
    },
    "id": "I9Hd4gDMRNSM",
    "outputId": "318349d9-e762-4274-ca44-1987ee83e96c"
   },
   "outputs": [
    {
     "data": {
      "image/png": "[encoded data removed]",
      "text/plain": [
       "<Figure size 432x288 with 1 Axes>"
      ]
     },
     "metadata": {
      "needs_background": "light"
     },
     "output_type": "display_data"
    },
    {
     "data": {
      "text/plain": [
       "<Figure size 432x216 with 0 Axes>"
      ]
     },
     "metadata": {},
     "output_type": "display_data"
    }
   ],
   "source": [
    "from keras.utils.vis_utils import plot_model\n",
    "import matplotlib.image as mpimg\n",
    "\n",
    "plot_model(model, show_shapes=True, show_layer_names=True)\n",
    "plt.imshow(mpimg.imread('model.png'))\n",
    "plt.figure(figsize=(6,3))\n",
    "plt.show()"
   ]
  },
  {
   "cell_type": "markdown",
   "metadata": {
    "datalore": {
     "hide_input_from_viewers": false,
     "hide_output_from_viewers": false,
     "node_id": "TuMuPzKI9mkpXMfMOnK1LA",
     "type": "MD"
    },
    "id": "IjcEcEO0LbQV"
   },
   "source": [
    "Compile the neural network by selecting the loss function and optimizer accordingly."
   ]
  },
  {
   "cell_type": "markdown",
   "metadata": {
    "id": "WDd26xdceh1r"
   },
   "source": [
    "#### **Loss function**\n",
    "\n",
    "**Mean Square Error is the mean square of the error** of determining any value.\n",
    "$${{MSE} ={\\frac {1}{n}}\\sum _{i=1}^{n}\\left(y_{i}-{\\hat {y_{i}}}\\right)^{2}.}$$\n",
    "\n",
    "**The mean absolute error (MAE)** is calculated as the average of the absolute differences between the target value and the value predicted by the model on a given training example during training:\n",
    "$${\\displaystyle \\mathrm {MAE} ={\\frac {\\sum _{i=1}^{n}\\left|y_{i}-x_{i}\\right|}{n}}={\\frac {\\sum _{i=1}^{n}\\left|e_{i}\\right|}{n}}.}$$\n",
    "\n",
    "**The root mean square error (RMSE)** shows how much the predicted values differ from the actual values. The formula for calculating RMSE:\n",
    "$$ RMSE = \\sqrt{\\frac{1}{n}\\Sigma_{i=1}^{n}{\\Big({\\hat {y_i} -y_i}\\Big)^2}}$$\n",
    "\n"
   ]
  },
  {
   "cell_type": "markdown",
   "metadata": {
    "id": "kuiXaQRqMiY-"
   },
   "source": [
    "#### **Optimizer**\n",
    "One of the key components of **Adam** is exponentially weighted moving averages (also known as hole averages) for estimating momentum and gradient quadratic momentum. Specifically, he uses state variables\n",
    "я\n",
    "$$\n",
    "\\begin{split}\\begin{aligned}\n",
    "    \\mathbf{v}_t & \\leftarrow \\beta_1 \\mathbf{v}_{t-1} + (1 - \\beta_1) \\mathbf{g}_t, \\\\\n",
    "    \\mathbf{s}_t & \\leftarrow \\beta_2 \\mathbf{s}_{t-1} + (1 - \\beta_2) \\mathbf{g}_t^2.\n",
    "\\end{aligned}\\end{split}\n",
    "$$\n",
    "First, the gradient value is adjusted as follows:\n",
    "$$\\mathbf{g}_t' = \\frac{\\eta \\hat{\\mathbf{v}}_t}{\\sqrt{\\hat{\\mathbf{s}}_t} + \\epsilon}.$$\n",
    "\n",
    "\n",
    "And the upgrade step will be:\n",
    "$$\\mathbf{\\theta}_t \\leftarrow \\mathbf{\\theta}_{t-1} - \\mathbf{g}_t'.$$"
   ]
  },
  {
   "cell_type": "code",
   "execution_count": 29,
   "metadata": {
    "datalore": {
     "hide_input_from_viewers": false,
     "hide_output_from_viewers": false,
     "node_id": "Qxs8obrnFlj2CqfZz7kIHz",
     "type": "CODE"
    },
    "id": "lBgnEnWQLbQV"
   },
   "outputs": [],
   "source": [
    "#Для оценки потерь и метрики рекомендую использовать метрики и функции потерь для регрессии.\n",
    "from tensorflow.keras.metrics import RootMeanSquaredError, MeanAbsoluteError\n",
    "\n",
    "model.compile(loss='mse', optimizer='Adam', metrics=[RootMeanSquaredError()]) "
   ]
  },
  {
   "cell_type": "markdown",
   "metadata": {
    "id": "UwHWEtfaMkyJ"
   },
   "source": [
    "#### **Batch size**\n",
    "The batch size is a hyperparameter that determines the number of samples that need to be processed before updating the internal parameters of the model.\n",
    "\n",
    "Depending on the type of optimization algorithm, the sampling method with the number of batch sizes will be different."
   ]
  },
  {
   "cell_type": "markdown",
   "metadata": {
    "id": "A_MH_kZfMlsG"
   },
   "source": [
    "#### **Epochs**\n",
    "The number of epochs is a hyperparameter that determines how many times the learning algorithm will run through the whole set of training data.\n"
   ]
  },
  {
   "cell_type": "markdown",
   "metadata": {
    "id": "-7Y-YEwiMqpW"
   },
   "source": [
    "\n",
    "#### **How it works**\n",
    "The optimization algorithm divides the train_data set into samples with the number of each sample equal to batch_size, and the algorithm repeats the forward and back propagation processes for each sample. Then we compute the loss values and estimate the metrics by the average of all samples."
   ]
  },
  {
   "cell_type": "markdown",
   "metadata": {
    "id": "AfWJnaBbtjMP"
   },
   "source": [
    "\n",
    "#### **Counter Overfitting with the Early Stopping method**\n",
    "One popular method of combating Overfitting is Early Stopping.\n",
    "\n",
    "Training with Early Stopping also means that we are less likely to stop training too early, before the network has finished learning the signal. So, in addition to preventing training too long when you are overtrained, stopping early can also prevent not training long enough when you are undertrained. Just set the training epochs to some large number (more than you need), and early stopping will take care of everything else."
   ]
  },
  {
   "cell_type": "markdown",
   "metadata": {
    "id": "tm2AAeNtM1w1"
   },
   "source": [
    "#### Coding"
   ]
  },
  {
   "cell_type": "code",
   "execution_count": 30,
   "metadata": {
    "colab": {
     "base_uri": "https://localhost:8080/",
     "height": 0
    },
    "datalore": {
     "hide_input_from_viewers": false,
     "hide_output_from_viewers": false,
     "node_id": "3vAX3eHvqUuLLDkTWRLTni",
     "type": "CODE"
    },
    "id": "c57UEKYiLbQW",
    "outputId": "f27dfab5-5aa1-41ea-9657-67da88a28232"
   },
   "outputs": [
    {
     "name": "stdout",
     "output_type": "stream",
     "text": [
      "Epoch 1/150\n",
      "73/73 [==============================] - 3s 5ms/step - loss: 38369726464.0000 - root_mean_squared_error: 195881.9219 - val_loss: 41659568128.0000 - val_root_mean_squared_error: 204106.7500\n",
      "Epoch 2/150\n",
      "73/73 [==============================] - 0s 3ms/step - loss: 38225350656.0000 - root_mean_squared_error: 195513.0469 - val_loss: 41268461568.0000 - val_root_mean_squared_error: 203146.4062\n",
      "Epoch 3/150\n",
      "73/73 [==============================] - 0s 3ms/step - loss: 37257768960.0000 - root_mean_squared_error: 193022.7188 - val_loss: 39339008000.0000 - val_root_mean_squared_error: 198340.6250\n",
      "Epoch 4/150\n",
      "73/73 [==============================] - 0s 3ms/step - loss: 33964621824.0000 - root_mean_squared_error: 184294.9219 - val_loss: 33968762880.0000 - val_root_mean_squared_error: 184306.1562\n",
      "Epoch 5/150\n",
      "73/73 [==============================] - 0s 3ms/step - loss: 26827042816.0000 - root_mean_squared_error: 163789.6250 - val_loss: 24338423808.0000 - val_root_mean_squared_error: 156007.7656\n",
      "Epoch 6/150\n",
      "73/73 [==============================] - 0s 3ms/step - loss: 16800649216.0000 - root_mean_squared_error: 129617.3203 - val_loss: 13438661632.0000 - val_root_mean_squared_error: 115925.2422\n",
      "Epoch 7/150\n",
      "73/73 [==============================] - 0s 3ms/step - loss: 8624634880.0000 - root_mean_squared_error: 92868.9062 - val_loss: 7262314496.0000 - val_root_mean_squared_error: 85219.2109\n",
      "Epoch 8/150\n",
      "73/73 [==============================] - 0s 3ms/step - loss: 5667175936.0000 - root_mean_squared_error: 75280.6484 - val_loss: 5871552512.0000 - val_root_mean_squared_error: 76626.0547\n",
      "Epoch 9/150\n",
      "73/73 [==============================] - 0s 3ms/step - loss: 5242707456.0000 - root_mean_squared_error: 72406.5391 - val_loss: 5659456000.0000 - val_root_mean_squared_error: 75229.3516\n",
      "Epoch 10/150\n",
      "73/73 [==============================] - 0s 3ms/step - loss: 5141669376.0000 - root_mean_squared_error: 71705.4375 - val_loss: 5535101952.0000 - val_root_mean_squared_error: 74398.2656\n",
      "Epoch 11/150\n",
      "73/73 [==============================] - 0s 4ms/step - loss: 5052796416.0000 - root_mean_squared_error: 71083.0234 - val_loss: 5443359744.0000 - val_root_mean_squared_error: 73779.1250\n",
      "Epoch 12/150\n",
      "73/73 [==============================] - 0s 3ms/step - loss: 4958993920.0000 - root_mean_squared_error: 70420.1250 - val_loss: 5335645696.0000 - val_root_mean_squared_error: 73045.5000\n",
      "Epoch 13/150\n",
      "73/73 [==============================] - 0s 3ms/step - loss: 4871206400.0000 - root_mean_squared_error: 69794.0312 - val_loss: 5232768000.0000 - val_root_mean_squared_error: 72337.8750\n",
      "Epoch 14/150\n",
      "73/73 [==============================] - 0s 3ms/step - loss: 4780798976.0000 - root_mean_squared_error: 69143.3203 - val_loss: 5160946176.0000 - val_root_mean_squared_error: 71839.7266\n",
      "Epoch 15/150\n",
      "73/73 [==============================] - 0s 3ms/step - loss: 4689310208.0000 - root_mean_squared_error: 68478.5391 - val_loss: 5056732160.0000 - val_root_mean_squared_error: 71110.7031\n",
      "Epoch 16/150\n",
      "73/73 [==============================] - 0s 3ms/step - loss: 4590132736.0000 - root_mean_squared_error: 67750.5156 - val_loss: 4955860992.0000 - val_root_mean_squared_error: 70397.8750\n",
      "Epoch 17/150\n",
      "73/73 [==============================] - 0s 3ms/step - loss: 4497057792.0000 - root_mean_squared_error: 67060.1016 - val_loss: 4833758720.0000 - val_root_mean_squared_error: 69525.2344\n",
      "Epoch 18/150\n",
      "73/73 [==============================] - 0s 3ms/step - loss: 4408661504.0000 - root_mean_squared_error: 66397.7500 - val_loss: 4714393600.0000 - val_root_mean_squared_error: 68661.4375\n",
      "Epoch 19/150\n",
      "73/73 [==============================] - 0s 3ms/step - loss: 4307658752.0000 - root_mean_squared_error: 65632.7578 - val_loss: 4637526016.0000 - val_root_mean_squared_error: 68099.3828\n",
      "Epoch 20/150\n",
      "73/73 [==============================] - 0s 3ms/step - loss: 4208663552.0000 - root_mean_squared_error: 64874.2109 - val_loss: 4515789312.0000 - val_root_mean_squared_error: 67199.6172\n",
      "Epoch 21/150\n",
      "73/73 [==============================] - 0s 3ms/step - loss: 4104955648.0000 - root_mean_squared_error: 64069.9258 - val_loss: 4412966912.0000 - val_root_mean_squared_error: 66430.1641\n",
      "Epoch 22/150\n",
      "73/73 [==============================] - 0s 3ms/step - loss: 4008047872.0000 - root_mean_squared_error: 63309.1445 - val_loss: 4302866432.0000 - val_root_mean_squared_error: 65596.2344\n",
      "Epoch 23/150\n",
      "73/73 [==============================] - 0s 3ms/step - loss: 3904727808.0000 - root_mean_squared_error: 62487.8203 - val_loss: 4229203200.0000 - val_root_mean_squared_error: 65032.3242\n",
      "Epoch 24/150\n",
      "73/73 [==============================] - 0s 3ms/step - loss: 3800190720.0000 - root_mean_squared_error: 61645.6875 - val_loss: 4091661056.0000 - val_root_mean_squared_error: 63966.0938\n",
      "Epoch 25/150\n",
      "73/73 [==============================] - 0s 4ms/step - loss: 3690154496.0000 - root_mean_squared_error: 60746.6406 - val_loss: 3981823232.0000 - val_root_mean_squared_error: 63101.6875\n",
      "Epoch 26/150\n",
      "73/73 [==============================] - 0s 3ms/step - loss: 3583634944.0000 - root_mean_squared_error: 59863.4688 - val_loss: 3869001728.0000 - val_root_mean_squared_error: 62201.2969\n",
      "Epoch 27/150\n",
      "73/73 [==============================] - 0s 3ms/step - loss: 3482123264.0000 - root_mean_squared_error: 59009.5195 - val_loss: 3782636800.0000 - val_root_mean_squared_error: 61503.1445\n",
      "Epoch 28/150\n",
      "73/73 [==============================] - 0s 4ms/step - loss: 3373383424.0000 - root_mean_squared_error: 58080.8359 - val_loss: 3642324992.0000 - val_root_mean_squared_error: 60351.6758\n",
      "Epoch 29/150\n",
      "73/73 [==============================] - 0s 3ms/step - loss: 3257387776.0000 - root_mean_squared_error: 57073.5273 - val_loss: 3522182144.0000 - val_root_mean_squared_error: 59347.9766\n",
      "Epoch 30/150\n",
      "73/73 [==============================] - 0s 3ms/step - loss: 3148147456.0000 - root_mean_squared_error: 56108.3555 - val_loss: 3399026432.0000 - val_root_mean_squared_error: 58301.1680\n",
      "Epoch 31/150\n",
      "73/73 [==============================] - 0s 3ms/step - loss: 3036965376.0000 - root_mean_squared_error: 55108.6680 - val_loss: 3295406592.0000 - val_root_mean_squared_error: 57405.6328\n",
      "Epoch 32/150\n",
      "73/73 [==============================] - 0s 3ms/step - loss: 2928648960.0000 - root_mean_squared_error: 54116.9922 - val_loss: 3187484928.0000 - val_root_mean_squared_error: 56457.8164\n",
      "Epoch 33/150\n",
      "73/73 [==============================] - 0s 3ms/step - loss: 2818425088.0000 - root_mean_squared_error: 53088.8438 - val_loss: 3081309952.0000 - val_root_mean_squared_error: 55509.5469\n",
      "Epoch 34/150\n",
      "73/73 [==============================] - 0s 3ms/step - loss: 2708452864.0000 - root_mean_squared_error: 52042.7969 - val_loss: 2957265408.0000 - val_root_mean_squared_error: 54380.7422\n",
      "Epoch 35/150\n",
      "73/73 [==============================] - 0s 3ms/step - loss: 2596284672.0000 - root_mean_squared_error: 50953.7500 - val_loss: 2841711104.0000 - val_root_mean_squared_error: 53307.7031\n",
      "Epoch 36/150\n",
      "73/73 [==============================] - 0s 3ms/step - loss: 2494300928.0000 - root_mean_squared_error: 49942.9766 - val_loss: 2748635392.0000 - val_root_mean_squared_error: 52427.4297\n",
      "Epoch 37/150\n",
      "73/73 [==============================] - 0s 3ms/step - loss: 2385960960.0000 - root_mean_squared_error: 48846.2969 - val_loss: 2646149120.0000 - val_root_mean_squared_error: 51440.7344\n",
      "Epoch 38/150\n",
      "73/73 [==============================] - 0s 3ms/step - loss: 2289198848.0000 - root_mean_squared_error: 47845.5703 - val_loss: 2554156544.0000 - val_root_mean_squared_error: 50538.6641\n",
      "Epoch 39/150\n",
      "73/73 [==============================] - 0s 3ms/step - loss: 2192787200.0000 - root_mean_squared_error: 46827.2031 - val_loss: 2437837568.0000 - val_root_mean_squared_error: 49374.4609\n",
      "Epoch 40/150\n",
      "73/73 [==============================] - 0s 3ms/step - loss: 2096312192.0000 - root_mean_squared_error: 45785.5000 - val_loss: 2371034624.0000 - val_root_mean_squared_error: 48693.2695\n",
      "Epoch 41/150\n",
      "73/73 [==============================] - 0s 3ms/step - loss: 2012562560.0000 - root_mean_squared_error: 44861.5938 - val_loss: 2271503872.0000 - val_root_mean_squared_error: 47660.2969\n",
      "Epoch 42/150\n",
      "73/73 [==============================] - 0s 3ms/step - loss: 1930119168.0000 - root_mean_squared_error: 43933.1211 - val_loss: 2201778688.0000 - val_root_mean_squared_error: 46923.1133\n",
      "Epoch 43/150\n",
      "73/73 [==============================] - 0s 3ms/step - loss: 1860168704.0000 - root_mean_squared_error: 43129.6719 - val_loss: 2126951168.0000 - val_root_mean_squared_error: 46118.8789\n",
      "Epoch 44/150\n",
      "73/73 [==============================] - 0s 3ms/step - loss: 1794256256.0000 - root_mean_squared_error: 42358.6641 - val_loss: 2077472512.0000 - val_root_mean_squared_error: 45579.3008\n",
      "Epoch 45/150\n",
      "73/73 [==============================] - 0s 4ms/step - loss: 1728032384.0000 - root_mean_squared_error: 41569.6094 - val_loss: 2033414400.0000 - val_root_mean_squared_error: 45093.3945\n",
      "Epoch 46/150\n",
      "73/73 [==============================] - 0s 3ms/step - loss: 1672172160.0000 - root_mean_squared_error: 40892.2031 - val_loss: 1976353408.0000 - val_root_mean_squared_error: 44456.1953\n",
      "Epoch 47/150\n",
      "73/73 [==============================] - 0s 4ms/step - loss: 1628338816.0000 - root_mean_squared_error: 40352.6797 - val_loss: 1941577600.0000 - val_root_mean_squared_error: 44063.3359\n",
      "Epoch 48/150\n",
      "73/73 [==============================] - 0s 3ms/step - loss: 1587619584.0000 - root_mean_squared_error: 39844.9453 - val_loss: 1915845504.0000 - val_root_mean_squared_error: 43770.3711\n",
      "Epoch 49/150\n",
      "73/73 [==============================] - 0s 3ms/step - loss: 1547821056.0000 - root_mean_squared_error: 39342.3555 - val_loss: 1881170432.0000 - val_root_mean_squared_error: 43372.4609\n",
      "Epoch 50/150\n",
      "73/73 [==============================] - 0s 3ms/step - loss: 1516066432.0000 - root_mean_squared_error: 38936.6953 - val_loss: 1865861504.0000 - val_root_mean_squared_error: 43195.6172\n",
      "Epoch 51/150\n",
      "73/73 [==============================] - 0s 3ms/step - loss: 1484265472.0000 - root_mean_squared_error: 38526.1641 - val_loss: 1834976256.0000 - val_root_mean_squared_error: 42836.6211\n",
      "Epoch 52/150\n",
      "73/73 [==============================] - 0s 3ms/step - loss: 1465431424.0000 - root_mean_squared_error: 38280.9531 - val_loss: 1825054080.0000 - val_root_mean_squared_error: 42720.6523\n",
      "Epoch 53/150\n",
      "73/73 [==============================] - 0s 3ms/step - loss: 1440318976.0000 - root_mean_squared_error: 37951.5352 - val_loss: 1813251840.0000 - val_root_mean_squared_error: 42582.2930\n",
      "Epoch 54/150\n",
      "73/73 [==============================] - 0s 3ms/step - loss: 1415207040.0000 - root_mean_squared_error: 37619.2383 - val_loss: 1792942336.0000 - val_root_mean_squared_error: 42343.1484\n",
      "Epoch 55/150\n",
      "73/73 [==============================] - 0s 3ms/step - loss: 1398876928.0000 - root_mean_squared_error: 37401.5625 - val_loss: 1783220992.0000 - val_root_mean_squared_error: 42228.1992\n",
      "Epoch 56/150\n",
      "73/73 [==============================] - 0s 3ms/step - loss: 1388497536.0000 - root_mean_squared_error: 37262.5469 - val_loss: 1770615936.0000 - val_root_mean_squared_error: 42078.6875\n",
      "Epoch 57/150\n",
      "73/73 [==============================] - 0s 3ms/step - loss: 1368711552.0000 - root_mean_squared_error: 36996.1016 - val_loss: 1761848704.0000 - val_root_mean_squared_error: 41974.3828\n",
      "Epoch 58/150\n",
      "73/73 [==============================] - 0s 3ms/step - loss: 1350513152.0000 - root_mean_squared_error: 36749.3281 - val_loss: 1754309248.0000 - val_root_mean_squared_error: 41884.4727\n",
      "Epoch 59/150\n",
      "73/73 [==============================] - 0s 3ms/step - loss: 1337601664.0000 - root_mean_squared_error: 36573.2383 - val_loss: 1749927168.0000 - val_root_mean_squared_error: 41832.1289\n",
      "Epoch 60/150\n",
      "73/73 [==============================] - 0s 3ms/step - loss: 1323589120.0000 - root_mean_squared_error: 36381.1641 - val_loss: 1745101824.0000 - val_root_mean_squared_error: 41774.4141\n",
      "Epoch 61/150\n",
      "73/73 [==============================] - 0s 3ms/step - loss: 1311009920.0000 - root_mean_squared_error: 36207.8711 - val_loss: 1737529344.0000 - val_root_mean_squared_error: 41683.6836\n",
      "Epoch 62/150\n",
      "73/73 [==============================] - 0s 3ms/step - loss: 1301270784.0000 - root_mean_squared_error: 36073.1289 - val_loss: 1739890688.0000 - val_root_mean_squared_error: 41711.9961\n",
      "Epoch 63/150\n",
      "73/73 [==============================] - 0s 3ms/step - loss: 1293855616.0000 - root_mean_squared_error: 35970.2031 - val_loss: 1734863616.0000 - val_root_mean_squared_error: 41651.6953\n",
      "Epoch 64/150\n",
      "73/73 [==============================] - 0s 3ms/step - loss: 1279294592.0000 - root_mean_squared_error: 35767.2266 - val_loss: 1711809792.0000 - val_root_mean_squared_error: 41374.0234\n",
      "Epoch 65/150\n",
      "73/73 [==============================] - 0s 3ms/step - loss: 1271435648.0000 - root_mean_squared_error: 35657.1953 - val_loss: 1715900672.0000 - val_root_mean_squared_error: 41423.4297\n",
      "Epoch 66/150\n",
      "73/73 [==============================] - 0s 3ms/step - loss: 1254134272.0000 - root_mean_squared_error: 35413.7578 - val_loss: 1700569728.0000 - val_root_mean_squared_error: 41237.9648\n",
      "Epoch 67/150\n",
      "73/73 [==============================] - 0s 3ms/step - loss: 1245457408.0000 - root_mean_squared_error: 35291.0391 - val_loss: 1695239424.0000 - val_root_mean_squared_error: 41173.2852\n",
      "Epoch 68/150\n",
      "73/73 [==============================] - 0s 4ms/step - loss: 1233008128.0000 - root_mean_squared_error: 35114.2148 - val_loss: 1688492672.0000 - val_root_mean_squared_error: 41091.2734\n",
      "Epoch 69/150\n",
      "73/73 [==============================] - 0s 3ms/step - loss: 1219251840.0000 - root_mean_squared_error: 34917.7852 - val_loss: 1695589632.0000 - val_root_mean_squared_error: 41177.5391\n",
      "Epoch 70/150\n",
      "73/73 [==============================] - 0s 3ms/step - loss: 1210305408.0000 - root_mean_squared_error: 34789.4414 - val_loss: 1679820288.0000 - val_root_mean_squared_error: 40985.6094\n",
      "Epoch 71/150\n",
      "73/73 [==============================] - 0s 3ms/step - loss: 1197576192.0000 - root_mean_squared_error: 34606.0117 - val_loss: 1677828608.0000 - val_root_mean_squared_error: 40961.3047\n",
      "Epoch 72/150\n",
      "73/73 [==============================] - 0s 3ms/step - loss: 1189459712.0000 - root_mean_squared_error: 34488.5469 - val_loss: 1678838016.0000 - val_root_mean_squared_error: 40973.6250\n",
      "Epoch 73/150\n",
      "73/73 [==============================] - 0s 3ms/step - loss: 1181599744.0000 - root_mean_squared_error: 34374.4062 - val_loss: 1668763648.0000 - val_root_mean_squared_error: 40850.5039\n",
      "Epoch 74/150\n",
      "73/73 [==============================] - 0s 3ms/step - loss: 1171165184.0000 - root_mean_squared_error: 34222.2891 - val_loss: 1665026304.0000 - val_root_mean_squared_error: 40804.7344\n",
      "Epoch 75/150\n",
      "73/73 [==============================] - 0s 3ms/step - loss: 1168548224.0000 - root_mean_squared_error: 34184.0352 - val_loss: 1664426880.0000 - val_root_mean_squared_error: 40797.3867\n",
      "Epoch 76/150\n",
      "73/73 [==============================] - 0s 3ms/step - loss: 1157176960.0000 - root_mean_squared_error: 34017.3047 - val_loss: 1658900224.0000 - val_root_mean_squared_error: 40729.5977\n",
      "Epoch 77/150\n",
      "73/73 [==============================] - 0s 3ms/step - loss: 1150671488.0000 - root_mean_squared_error: 33921.5469 - val_loss: 1655884928.0000 - val_root_mean_squared_error: 40692.5664\n",
      "Epoch 78/150\n",
      "73/73 [==============================] - 0s 3ms/step - loss: 1140697728.0000 - root_mean_squared_error: 33774.2188 - val_loss: 1652661632.0000 - val_root_mean_squared_error: 40652.9414\n",
      "Epoch 79/150\n",
      "73/73 [==============================] - 0s 3ms/step - loss: 1134689792.0000 - root_mean_squared_error: 33685.1562 - val_loss: 1649890048.0000 - val_root_mean_squared_error: 40618.8359\n",
      "Epoch 80/150\n",
      "73/73 [==============================] - 0s 3ms/step - loss: 1129689472.0000 - root_mean_squared_error: 33610.8516 - val_loss: 1653742592.0000 - val_root_mean_squared_error: 40666.2344\n",
      "Epoch 81/150\n",
      "73/73 [==============================] - 0s 3ms/step - loss: 1124658944.0000 - root_mean_squared_error: 33535.9336 - val_loss: 1651930496.0000 - val_root_mean_squared_error: 40643.9453\n",
      "Epoch 82/150\n",
      "73/73 [==============================] - 0s 3ms/step - loss: 1115357312.0000 - root_mean_squared_error: 33396.9648 - val_loss: 1644713344.0000 - val_root_mean_squared_error: 40555.0625\n",
      "Epoch 83/150\n",
      "73/73 [==============================] - 0s 3ms/step - loss: 1107595904.0000 - root_mean_squared_error: 33280.5625 - val_loss: 1645912448.0000 - val_root_mean_squared_error: 40569.8438\n",
      "Epoch 84/150\n",
      "73/73 [==============================] - 0s 3ms/step - loss: 1099345792.0000 - root_mean_squared_error: 33156.3828 - val_loss: 1658894336.0000 - val_root_mean_squared_error: 40729.5273\n",
      "Epoch 85/150\n",
      "73/73 [==============================] - 0s 4ms/step - loss: 1094587904.0000 - root_mean_squared_error: 33084.5547 - val_loss: 1642395520.0000 - val_root_mean_squared_error: 40526.4805\n",
      "Epoch 86/150\n",
      "73/73 [==============================] - 0s 3ms/step - loss: 1089224448.0000 - root_mean_squared_error: 33003.3984 - val_loss: 1637257728.0000 - val_root_mean_squared_error: 40463.0430\n",
      "Epoch 87/150\n",
      "73/73 [==============================] - 0s 3ms/step - loss: 1083810304.0000 - root_mean_squared_error: 32921.2734 - val_loss: 1637710976.0000 - val_root_mean_squared_error: 40468.6406\n",
      "Epoch 88/150\n",
      "73/73 [==============================] - 0s 3ms/step - loss: 1086316928.0000 - root_mean_squared_error: 32959.3203 - val_loss: 1643801088.0000 - val_root_mean_squared_error: 40543.8164\n",
      "Epoch 89/150\n",
      "73/73 [==============================] - 0s 3ms/step - loss: 1068981952.0000 - root_mean_squared_error: 32695.2891 - val_loss: 1633948672.0000 - val_root_mean_squared_error: 40422.1289\n",
      "Epoch 90/150\n",
      "73/73 [==============================] - 0s 3ms/step - loss: 1062916160.0000 - root_mean_squared_error: 32602.3945 - val_loss: 1636007552.0000 - val_root_mean_squared_error: 40447.5898\n",
      "Epoch 91/150\n",
      "73/73 [==============================] - 0s 3ms/step - loss: 1062026688.0000 - root_mean_squared_error: 32588.7500 - val_loss: 1636323328.0000 - val_root_mean_squared_error: 40451.4922\n",
      "Epoch 92/150\n",
      "73/73 [==============================] - 0s 3ms/step - loss: 1054954432.0000 - root_mean_squared_error: 32480.0625 - val_loss: 1632450432.0000 - val_root_mean_squared_error: 40403.5938\n",
      "Epoch 93/150\n",
      "73/73 [==============================] - 0s 4ms/step - loss: 1046218752.0000 - root_mean_squared_error: 32345.3047 - val_loss: 1635312640.0000 - val_root_mean_squared_error: 40439.0000\n",
      "Epoch 94/150\n",
      "73/73 [==============================] - 0s 3ms/step - loss: 1045573888.0000 - root_mean_squared_error: 32335.3340 - val_loss: 1634261632.0000 - val_root_mean_squared_error: 40426.0000\n",
      "Epoch 95/150\n",
      "73/73 [==============================] - 0s 3ms/step - loss: 1043771328.0000 - root_mean_squared_error: 32307.4492 - val_loss: 1633872640.0000 - val_root_mean_squared_error: 40421.1914\n",
      "Epoch 96/150\n",
      "73/73 [==============================] - 0s 3ms/step - loss: 1034161088.0000 - root_mean_squared_error: 32158.3750 - val_loss: 1632788096.0000 - val_root_mean_squared_error: 40407.7734\n",
      "Epoch 97/150\n",
      "73/73 [==============================] - 0s 3ms/step - loss: 1030574016.0000 - root_mean_squared_error: 32102.5547 - val_loss: 1641443840.0000 - val_root_mean_squared_error: 40514.7344\n",
      "Epoch 98/150\n",
      "73/73 [==============================] - 0s 3ms/step - loss: 1029345088.0000 - root_mean_squared_error: 32083.4082 - val_loss: 1638842752.0000 - val_root_mean_squared_error: 40482.6211\n",
      "Epoch 99/150\n",
      "73/73 [==============================] - 0s 3ms/step - loss: 1021207872.0000 - root_mean_squared_error: 31956.3438 - val_loss: 1645312000.0000 - val_root_mean_squared_error: 40562.4453\n",
      "Epoch 100/150\n",
      "73/73 [==============================] - 0s 3ms/step - loss: 1018074944.0000 - root_mean_squared_error: 31907.2852 - val_loss: 1639232896.0000 - val_root_mean_squared_error: 40487.4414\n",
      "Epoch 101/150\n",
      "73/73 [==============================] - 0s 3ms/step - loss: 1014937600.0000 - root_mean_squared_error: 31858.0859 - val_loss: 1643681408.0000 - val_root_mean_squared_error: 40542.3398\n",
      "Epoch 102/150\n",
      "73/73 [==============================] - 0s 3ms/step - loss: 1006948864.0000 - root_mean_squared_error: 31732.4570 - val_loss: 1648808832.0000 - val_root_mean_squared_error: 40605.5273\n"
     ]
    }
   ],
   "source": [
    "from tensorflow.keras import callbacks\n",
    "\n",
    "early_stopping = callbacks.EarlyStopping(\n",
    "    min_delta=500, # minimium amount of change to count as an improvement 1000/(mean=181000) <<\n",
    "    patience=10, # how many epochs to wait before stopping\n",
    "    restore_best_weights=True\n",
    ")\n",
    "#замените None на гиперпараметры вашей модели нейронной сети\n",
    "history = model.fit(X_train, y_train,\n",
    "                     validation_data=(X_val, y_val),\n",
    "                    batch_size=16,\n",
    "                    epochs=150,\n",
    "                    callbacks=[early_stopping]) "
   ]
  },
  {
   "cell_type": "markdown",
   "metadata": {
    "datalore": {
     "hide_input_from_viewers": false,
     "hide_output_from_viewers": false,
     "node_id": "LZFQS0AKCW5TXjLQTrI0OR",
     "type": "MD"
    },
    "id": "RAY41lmyLbQW"
   },
   "source": [
    "**Compute the results**."
   ]
  },
  {
   "cell_type": "code",
   "execution_count": 59,
   "metadata": {
    "colab": {
     "base_uri": "https://localhost:8080/",
     "height": 277
    },
    "datalore": {
     "hide_input_from_viewers": false,
     "hide_output_from_viewers": false,
     "node_id": "wZBd4zSZSgFw6r0HmnY5NE",
     "type": "CODE"
    },
    "id": "6e8Y7t2VLbQW",
    "outputId": "5ba5d1b5-f01b-4140-ef3b-ff799811b1a3"
   },
   "outputs": [
    {
     "data": {
      "image/png": "[encoded data removed]",
      "text/plain": [
       "<Figure size 720x288 with 2 Axes>"
      ]
     },
     "metadata": {
      "needs_background": "light"
     },
     "output_type": "display_data"
    }
   ],
   "source": [
    "# pd.DataFrame(history.history).plot();\n",
    "epochs = len(history.history['loss'])\n",
    "fig, axs = plt.subplots(1,2, figsize=(10, 4))\n",
    "fig.tight_layout(pad=5.0)\n",
    "fig.suptitle('Evaluate result MSE and RMSE')\n",
    "\n",
    "axs[0].plot(np.arange(epochs), history.history['loss'], label='loss')\n",
    "axs[0].plot(np.arange(epochs), history.history['val_loss'], label='val_loss')\n",
    "axs[0].legend()\n",
    "axs[0].set_xlabel('epoch')\n",
    "axs[0].set_ylabel('loss')\n",
    "\n",
    "axs[1].plot(np.arange(epochs), history.history['root_mean_squared_error'], \n",
    "            label='root_mean_squared_error')\n",
    "axs[1].plot(np.arange(epochs), history.history['val_root_mean_squared_error'], \n",
    "            label='val_root_mean_squared_error')\n",
    "axs[1].legend()\n",
    "axs[1].set_xlabel('epoch')\n",
    "axs[1].set_ylabel('RMSE')\n",
    "plt.show()"
   ]
  },
  {
   "cell_type": "code",
   "execution_count": 32,
   "metadata": {
    "colab": {
     "base_uri": "https://localhost:8080/",
     "height": 0
    },
    "datalore": {
     "hide_input_from_viewers": false,
     "hide_output_from_viewers": false,
     "node_id": "lMG4cd8mpOR6KHAh9Azgoo",
     "type": "CODE"
    },
    "id": "xZeysSn2LbQW",
    "outputId": "2300306c-733d-481e-a807-4fefe86ad7db"
   },
   "outputs": [
    {
     "name": "stdout",
     "output_type": "stream",
     "text": [
      "10/10 [==============================] - 0s 4ms/step - loss: 1632450432.0000 - root_mean_squared_error: 40403.5938\n"
     ]
    }
   ],
   "source": [
    "scores = model.evaluate(X_val, y_val, verbose=1)"
   ]
  },
  {
   "cell_type": "markdown",
   "metadata": {
    "datalore": {
     "hide_input_from_viewers": false,
     "hide_output_from_viewers": false,
     "node_id": "WHgYPYiiXxd2J3kqISUUbA",
     "type": "MD"
    },
    "id": "ylgLKLBGLbQW"
   },
   "source": [
    "### 5.2 Prediction"
   ]
  },
  {
   "cell_type": "code",
   "execution_count": 33,
   "metadata": {
    "colab": {
     "base_uri": "https://localhost:8080/",
     "height": 0
    },
    "datalore": {
     "hide_input_from_viewers": false,
     "hide_output_from_viewers": false,
     "node_id": "aiGNSLedTFos5pjgz0KiMg",
     "type": "CODE"
    },
    "id": "MGHNLTbTLbQX",
    "outputId": "6e6bb600-b88b-47e3-b535-1e1bdaf6ec2b"
   },
   "outputs": [
    {
     "name": "stdout",
     "output_type": "stream",
     "text": [
      "46/46 [==============================] - 0s 1ms/step\n"
     ]
    },
    {
     "data": {
      "text/plain": [
       "array([[ 93239.6 ],\n",
       "       [138983.73],\n",
       "       [170327.06],\n",
       "       ...,\n",
       "       [164554.52],\n",
       "       [ 91797.84],\n",
       "       [214315.73]], dtype=float32)"
      ]
     },
     "execution_count": 33,
     "metadata": {},
     "output_type": "execute_result"
    }
   ],
   "source": [
    "preds = model.predict(test_edited)\n",
    "preds"
   ]
  },
  {
   "cell_type": "code",
   "execution_count": 34,
   "metadata": {
    "colab": {
     "base_uri": "https://localhost:8080/",
     "height": 424
    },
    "datalore": {
     "hide_input_from_viewers": false,
     "hide_output_from_viewers": false,
     "node_id": "NvP6Ro1j8jijcQa8KEVbbS",
     "type": "CODE"
    },
    "id": "DBQgkawjLbQY",
    "outputId": "8c64a75b-9e40-4474-bbed-21fb36c15003"
   },
   "outputs": [
    {
     "data": {
      "text/html": [
       "\n",
       "  <div id=\"df-72fcd579-7a32-4eac-9950-6d353c6df5cb\">\n",
       "    <div class=\"colab-df-container\">\n",
       "      <div>\n",
       "<style scoped>\n",
       "    .dataframe tbody tr th:only-of-type {\n",
       "        vertical-align: middle;\n",
       "    }\n",
       "\n",
       "    .dataframe tbody tr th {\n",
       "        vertical-align: top;\n",
       "    }\n",
       "\n",
       "    .dataframe thead th {\n",
       "        text-align: right;\n",
       "    }\n",
       "</style>\n",
       "<table border=\"1\" class=\"dataframe\">\n",
       "  <thead>\n",
       "    <tr style=\"text-align: right;\">\n",
       "      <th></th>\n",
       "      <th>Id</th>\n",
       "      <th>SalePrice</th>\n",
       "    </tr>\n",
       "  </thead>\n",
       "  <tbody>\n",
       "    <tr>\n",
       "      <th>0</th>\n",
       "      <td>1461</td>\n",
       "      <td>93239.601562</td>\n",
       "    </tr>\n",
       "    <tr>\n",
       "      <th>1</th>\n",
       "      <td>1462</td>\n",
       "      <td>138983.734375</td>\n",
       "    </tr>\n",
       "    <tr>\n",
       "      <th>2</th>\n",
       "      <td>1463</td>\n",
       "      <td>170327.062500</td>\n",
       "    </tr>\n",
       "    <tr>\n",
       "      <th>3</th>\n",
       "      <td>1464</td>\n",
       "      <td>183161.671875</td>\n",
       "    </tr>\n",
       "    <tr>\n",
       "      <th>4</th>\n",
       "      <td>1465</td>\n",
       "      <td>149431.812500</td>\n",
       "    </tr>\n",
       "    <tr>\n",
       "      <th>...</th>\n",
       "      <td>...</td>\n",
       "      <td>...</td>\n",
       "    </tr>\n",
       "    <tr>\n",
       "      <th>1454</th>\n",
       "      <td>2915</td>\n",
       "      <td>45890.226562</td>\n",
       "    </tr>\n",
       "    <tr>\n",
       "      <th>1455</th>\n",
       "      <td>2916</td>\n",
       "      <td>44572.402344</td>\n",
       "    </tr>\n",
       "    <tr>\n",
       "      <th>1456</th>\n",
       "      <td>2917</td>\n",
       "      <td>164554.515625</td>\n",
       "    </tr>\n",
       "    <tr>\n",
       "      <th>1457</th>\n",
       "      <td>2918</td>\n",
       "      <td>91797.843750</td>\n",
       "    </tr>\n",
       "    <tr>\n",
       "      <th>1458</th>\n",
       "      <td>2919</td>\n",
       "      <td>214315.734375</td>\n",
       "    </tr>\n",
       "  </tbody>\n",
       "</table>\n",
       "<p>1459 rows × 2 columns</p>\n",
       "</div>\n",
       "      <button class=\"colab-df-convert\" onclick=\"convertToInteractive('df-72fcd579-7a32-4eac-9950-6d353c6df5cb')\"\n",
       "              title=\"Convert this dataframe to an interactive table.\"\n",
       "              style=\"display:none;\">\n",
       "        \n",
       "  <svg xmlns=\"http://www.w3.org/2000/svg\" height=\"24px\"viewBox=\"0 0 24 24\"\n",
       "       width=\"24px\">\n",
       "    <path d=\"M0 0h24v24H0V0z\" fill=\"none\"/>\n",
       "    <path d=\"M18.56 5.44l.94 2.06.94-2.06 2.06-.94-2.06-.94-.94-2.06-.94 2.06-2.06.94zm-11 1L8.5 8.5l.94-2.06 2.06-.94-2.06-.94L8.5 2.5l-.94 2.06-2.06.94zm10 10l.94 2.06.94-2.06 2.06-.94-2.06-.94-.94-2.06-.94 2.06-2.06.94z\"/><path d=\"M17.41 7.96l-1.37-1.37c-.4-.4-.92-.59-1.43-.59-.52 0-1.04.2-1.43.59L10.3 9.45l-7.72 7.72c-.78.78-.78 2.05 0 2.83L4 21.41c.39.39.9.59 1.41.59.51 0 1.02-.2 1.41-.59l7.78-7.78 2.81-2.81c.8-.78.8-2.07 0-2.86zM5.41 20L4 18.59l7.72-7.72 1.47 1.35L5.41 20z\"/>\n",
       "  </svg>\n",
       "      </button>\n",
       "      \n",
       "  <style>\n",
       "    .colab-df-container {\n",
       "      display:flex;\n",
       "      flex-wrap:wrap;\n",
       "      gap: 12px;\n",
       "    }\n",
       "\n",
       "    .colab-df-convert {\n",
       "      background-color: #E8F0FE;\n",
       "      border: none;\n",
       "      border-radius: 50%;\n",
       "      cursor: pointer;\n",
       "      display: none;\n",
       "      fill: #1967D2;\n",
       "      height: 32px;\n",
       "      padding: 0 0 0 0;\n",
       "      width: 32px;\n",
       "    }\n",
       "\n",
       "    .colab-df-convert:hover {\n",
       "      background-color: #E2EBFA;\n",
       "      box-shadow: 0px 1px 2px rgba(60, 64, 67, 0.3), 0px 1px 3px 1px rgba(60, 64, 67, 0.15);\n",
       "      fill: #174EA6;\n",
       "    }\n",
       "\n",
       "    [theme=dark] .colab-df-convert {\n",
       "      background-color: #3B4455;\n",
       "      fill: #D2E3FC;\n",
       "    }\n",
       "\n",
       "    [theme=dark] .colab-df-convert:hover {\n",
       "      background-color: #434B5C;\n",
       "      box-shadow: 0px 1px 3px 1px rgba(0, 0, 0, 0.15);\n",
       "      filter: drop-shadow(0px 1px 2px rgba(0, 0, 0, 0.3));\n",
       "      fill: #FFFFFF;\n",
       "    }\n",
       "  </style>\n",
       "\n",
       "      <script>\n",
       "        const buttonEl =\n",
       "          document.querySelector('#df-72fcd579-7a32-4eac-9950-6d353c6df5cb button.colab-df-convert');\n",
       "        buttonEl.style.display =\n",
       "          google.colab.kernel.accessAllowed ? 'block' : 'none';\n",
       "\n",
       "        async function convertToInteractive(key) {\n",
       "          const element = document.querySelector('#df-72fcd579-7a32-4eac-9950-6d353c6df5cb');\n",
       "          const dataTable =\n",
       "            await google.colab.kernel.invokeFunction('convertToInteractive',\n",
       "                                                     [key], {});\n",
       "          if (!dataTable) return;\n",
       "\n",
       "          const docLinkHtml = 'Like what you see? Visit the ' +\n",
       "            '<a target=\"_blank\" href=https://colab.research.google.com/notebooks/data_table.ipynb>data table notebook</a>'\n",
       "            + ' to learn more about interactive tables.';\n",
       "          element.innerHTML = '';\n",
       "          dataTable['output_type'] = 'display_data';\n",
       "          await google.colab.output.renderOutput(dataTable, element);\n",
       "          const docLink = document.createElement('div');\n",
       "          docLink.innerHTML = docLinkHtml;\n",
       "          element.appendChild(docLink);\n",
       "        }\n",
       "      </script>\n",
       "    </div>\n",
       "  </div>\n",
       "  "
      ],
      "text/plain": [
       "        Id      SalePrice\n",
       "0     1461   93239.601562\n",
       "1     1462  138983.734375\n",
       "2     1463  170327.062500\n",
       "3     1464  183161.671875\n",
       "4     1465  149431.812500\n",
       "...    ...            ...\n",
       "1454  2915   45890.226562\n",
       "1455  2916   44572.402344\n",
       "1456  2917  164554.515625\n",
       "1457  2918   91797.843750\n",
       "1458  2919  214315.734375\n",
       "\n",
       "[1459 rows x 2 columns]"
      ]
     },
     "execution_count": 34,
     "metadata": {},
     "output_type": "execute_result"
    }
   ],
   "source": [
    "#Эту часть рекомендуется дополнить вам, для более информативного отображения результата предсказания.\n",
    "output = pd.DataFrame(\n",
    "{\n",
    "    'Id':test_data.index,\n",
    "    'SalePrice': np.squeeze(preds)\n",
    "})\n",
    "output\n",
    "#print (output)"
   ]
  },
  {
   "cell_type": "code",
   "execution_count": 74,
   "metadata": {
    "id": "Ip-BgDU2S4hg"
   },
   "outputs": [],
   "source": [
    "# Save model and output \n",
    "model.save('house_regression_dnn.h5')\n",
    "\n",
    "output.to_csv('output.csv')"
   ]
  }
 ],
 "metadata": {
  "accelerator": "GPU",
  "colab": {
   "collapsed_sections": [],
   "provenance": []
  },
  "datalore": {
   "computation_mode": "JUPYTER",
   "packages": [],
   "version": 1
  },
  "gpuClass": "standard",
  "kernelspec": {
   "display_name": "Python 3 (ipykernel)",
   "language": "python",
   "name": "python3"
  },
  "language_info": {
   "codemirror_mode": {
    "name": "ipython",
    "version": 3
   },
   "file_extension": ".py",
   "mimetype": "text/x-python",
   "name": "python",
   "nbconvert_exporter": "python",
   "pygments_lexer": "ipython3",
   "version": "3.10.6"
  },
  "vscode": {
   "interpreter": {
    "hash": "916dbcbb3f70747c44a77c7bcd40155683ae19c65e1c03b4aa3499c5328201f1"
   }
  }
 },
 "nbformat": 4,
 "nbformat_minor": 1
}
